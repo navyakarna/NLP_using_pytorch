{
  "nbformat": 4,
  "nbformat_minor": 0,
  "metadata": {
    "colab": {
      "provenance": [],
      "authorship_tag": "ABX9TyMKfCSCnjcUraXCj+5eiQid",
      "include_colab_link": true
    },
    "kernelspec": {
      "name": "python3",
      "display_name": "Python 3"
    },
    "language_info": {
      "name": "python"
    }
  },
  "cells": [
    {
      "cell_type": "markdown",
      "metadata": {
        "id": "view-in-github",
        "colab_type": "text"
      },
      "source": [
        "<a href=\"https://colab.research.google.com/github/navyakarna/NLP_using_pytorch/blob/main/Untitled74.ipynb\" target=\"_parent\"><img src=\"https://colab.research.google.com/assets/colab-badge.svg\" alt=\"Open In Colab\"/></a>"
      ]
    },
    {
      "cell_type": "code",
      "execution_count": 15,
      "metadata": {
        "colab": {
          "base_uri": "https://localhost:8080/"
        },
        "id": "bnio-yzbRA2u",
        "outputId": "9621c324-0618-418b-d142-22cda307c4ef"
      },
      "outputs": [
        {
          "output_type": "stream",
          "name": "stdout",
          "text": [
            "Requirement already satisfied: openai in /usr/local/lib/python3.11/dist-packages (0.28.0)\n",
            "Requirement already satisfied: requests>=2.20 in /usr/local/lib/python3.11/dist-packages (from openai) (2.32.3)\n",
            "Requirement already satisfied: tqdm in /usr/local/lib/python3.11/dist-packages (from openai) (4.67.1)\n",
            "Requirement already satisfied: aiohttp in /usr/local/lib/python3.11/dist-packages (from openai) (3.11.13)\n",
            "Requirement already satisfied: charset-normalizer<4,>=2 in /usr/local/lib/python3.11/dist-packages (from requests>=2.20->openai) (3.4.1)\n",
            "Requirement already satisfied: idna<4,>=2.5 in /usr/local/lib/python3.11/dist-packages (from requests>=2.20->openai) (3.10)\n",
            "Requirement already satisfied: urllib3<3,>=1.21.1 in /usr/local/lib/python3.11/dist-packages (from requests>=2.20->openai) (2.3.0)\n",
            "Requirement already satisfied: certifi>=2017.4.17 in /usr/local/lib/python3.11/dist-packages (from requests>=2.20->openai) (2025.1.31)\n",
            "Requirement already satisfied: aiohappyeyeballs>=2.3.0 in /usr/local/lib/python3.11/dist-packages (from aiohttp->openai) (2.6.1)\n",
            "Requirement already satisfied: aiosignal>=1.1.2 in /usr/local/lib/python3.11/dist-packages (from aiohttp->openai) (1.3.2)\n",
            "Requirement already satisfied: attrs>=17.3.0 in /usr/local/lib/python3.11/dist-packages (from aiohttp->openai) (25.2.0)\n",
            "Requirement already satisfied: frozenlist>=1.1.1 in /usr/local/lib/python3.11/dist-packages (from aiohttp->openai) (1.5.0)\n",
            "Requirement already satisfied: multidict<7.0,>=4.5 in /usr/local/lib/python3.11/dist-packages (from aiohttp->openai) (6.1.0)\n",
            "Requirement already satisfied: propcache>=0.2.0 in /usr/local/lib/python3.11/dist-packages (from aiohttp->openai) (0.3.0)\n",
            "Requirement already satisfied: yarl<2.0,>=1.17.0 in /usr/local/lib/python3.11/dist-packages (from aiohttp->openai) (1.18.3)\n"
          ]
        }
      ],
      "source": [
        "!pip install openai"
      ]
    },
    {
      "cell_type": "code",
      "source": [
        "from google.colab import userdata\n",
        "\n",
        "   # Replace 'YOUR_ACTUAL_API_KEY' with your OpenAI API key\n",
        "OPENAI_API_KEY = userdata.get('OPENAI_API_KEY')"
      ],
      "metadata": {
        "id": "Ky_jfqbNRLce"
      },
      "execution_count": 16,
      "outputs": []
    },
    {
      "cell_type": "code",
      "source": [
        "import openai\n",
        "openai.api_key = OPENAI_API_KEY"
      ],
      "metadata": {
        "id": "RZr0J67wTzzv"
      },
      "execution_count": 17,
      "outputs": []
    },
    {
      "cell_type": "markdown",
      "source": [
        "#prompt engineering with chatgpt api"
      ],
      "metadata": {
        "id": "5AYMOpa1UJea"
      }
    },
    {
      "cell_type": "code",
      "source": [
        "import openai\n",
        "import time\n",
        "\n",
        "def call_openai_with_retry(max_retries=3, initial_delay=1):\n",
        "  \"\"\"Calls OpenAI API with retry logic for RateLimitError.\"\"\"\n",
        "  retries = 0\n",
        "  delay = initial_delay\n",
        "  while retries < max_retries:\n",
        "    try:\n",
        "      # Your OpenAI API call here\n",
        "      response = openai.ChatCompletion.create(\n",
        "          model=\"gpt-3.5-turbo\",\n",
        "          messages=[{\"role\": \"user\", \"content\": \"Hello!\"}]\n",
        "      )\n",
        "      return response\n",
        "    except openai.error.RateLimitError as e:\n",
        "      retries += 1\n",
        "      print(f\"Rate limit exceeded. Retrying in {delay} seconds...\")\n",
        "      time.sleep(delay)\n",
        "      delay *= 2  # Exponential backoff\n",
        "    except Exception as e:\n",
        "      raise e  # Re-raise other exceptions\n",
        "\n",
        "\n",
        "response = call_openai_with_retry()\n",
        "print(response)"
      ],
      "metadata": {
        "colab": {
          "base_uri": "https://localhost:8080/"
        },
        "id": "JyDcK158UHba",
        "outputId": "5b0ae4f5-b190-4f0d-cbd2-9f7075504c36"
      },
      "execution_count": 18,
      "outputs": [
        {
          "output_type": "stream",
          "name": "stdout",
          "text": [
            "Rate limit exceeded. Retrying in 1 seconds...\n",
            "Rate limit exceeded. Retrying in 2 seconds...\n",
            "Rate limit exceeded. Retrying in 4 seconds...\n",
            "None\n"
          ]
        }
      ]
    },
    {
      "cell_type": "code",
      "source": [
        "model ='gpt-4o-mini'"
      ],
      "metadata": {
        "id": "2z27jz8DVuNQ"
      },
      "execution_count": 25,
      "outputs": []
    },
    {
      "cell_type": "code",
      "source": [
        "messages = [{'role':'user', 'content': 'tell me a joke'}]\n",
        "response = openai.ChatCompletion.create(model='gpt-4o-mini', messages = messages)\n",
        "print(response)"
      ],
      "metadata": {
        "id": "W1UtvkD8BMKa"
      },
      "execution_count": null,
      "outputs": []
    },
    {
      "cell_type": "code",
      "source": [
        "print(response.choice[0].message[\"content\"])"
      ],
      "metadata": {
        "id": "v6WrH8obB_9h"
      },
      "execution_count": null,
      "outputs": []
    },
    {
      "cell_type": "code",
      "source": [
        "message = [{'role':'sysmtem', 'content': 'you are an assistant that speaks like Shakespears.'},\n",
        "           {'role':'user', 'content':'tell me a joke'}]"
      ],
      "metadata": {
        "id": "CHug8kHFCDYA"
      },
      "execution_count": null,
      "outputs": []
    },
    {
      "cell_type": "code",
      "source": [
        "response = openai.ChatCompletion.create(model='gpt-4o-mini', messages=messages)"
      ],
      "metadata": {
        "id": "1ymYy6lKCZM-"
      },
      "execution_count": null,
      "outputs": []
    },
    {
      "cell_type": "code",
      "source": [
        "print(response.choice[0].message[\"content\"])"
      ],
      "metadata": {
        "id": "8ZqL1IpwFVfK"
      },
      "execution_count": null,
      "outputs": []
    },
    {
      "cell_type": "code",
      "source": [
        "def get_response(prompt, model=\"gpt-3.5-turbo\"):\n",
        "    messages = [{\"role\": \"user\", \"content\": prompt}]\n",
        "    response = openai.ChatCompletion.create(\n",
        "        model = model\n",
        "        messages = messages\n",
        "    )\n",
        "\n",
        "    return response.choice[0].message[\"content\"]\n"
      ],
      "metadata": {
        "id": "ouaHVpZ3FbtE"
      },
      "execution_count": null,
      "outputs": []
    },
    {
      "cell_type": "code",
      "source": [
        "prompt= \"write a blog post on decision tree\"\n",
        "print(get_response(prompt))"
      ],
      "metadata": {
        "id": "i6YQhorZF5rz"
      },
      "execution_count": null,
      "outputs": []
    },
    {
      "cell_type": "code",
      "source": [
        "prompt = \"write a short blog post on decision tree for begineer level audience\"\n",
        "print(get_response(prompt))"
      ],
      "metadata": {
        "id": "cpm5pSy3GSzo"
      },
      "execution_count": null,
      "outputs": []
    },
    {
      "cell_type": "code",
      "source": [
        "messages = [{'role':'user', 'content':first_prompt},\n",
        "            {'role':'assitant', 'content': first_prompt_output},\n",
        "            {'role':'user', 'content': second_prompt}]"
      ],
      "metadata": {
        "colab": {
          "base_uri": "https://localhost:8080/",
          "height": 216
        },
        "id": "NHZykeCAGmkh",
        "outputId": "cbadb5a0-fd0e-4738-80e2-21b74261f9b9"
      },
      "execution_count": 1,
      "outputs": [
        {
          "output_type": "error",
          "ename": "NameError",
          "evalue": "name 'first_prompt' is not defined",
          "traceback": [
            "\u001b[0;31m---------------------------------------------------------------------------\u001b[0m",
            "\u001b[0;31mNameError\u001b[0m                                 Traceback (most recent call last)",
            "\u001b[0;32m<ipython-input-1-607abb7d2f9d>\u001b[0m in \u001b[0;36m<cell line: 0>\u001b[0;34m()\u001b[0m\n\u001b[0;32m----> 1\u001b[0;31m messages = [{'role':'user', 'content':first_prompt},\n\u001b[0m\u001b[1;32m      2\u001b[0m             \u001b[0;34m{\u001b[0m\u001b[0;34m'role'\u001b[0m\u001b[0;34m:\u001b[0m\u001b[0;34m'assitant'\u001b[0m\u001b[0;34m,\u001b[0m \u001b[0;34m'content'\u001b[0m\u001b[0;34m:\u001b[0m \u001b[0mfirst_prompt_output\u001b[0m\u001b[0;34m}\u001b[0m\u001b[0;34m,\u001b[0m\u001b[0;34m\u001b[0m\u001b[0;34m\u001b[0m\u001b[0m\n\u001b[1;32m      3\u001b[0m             {'role':'user', 'content': second_prompt}]\n",
            "\u001b[0;31mNameError\u001b[0m: name 'first_prompt' is not defined"
          ]
        }
      ]
    },
    {
      "cell_type": "code",
      "source": [
        "response = openai.ChatCompletion.create(\n",
        "    model=\"gpt-3.5-turbo\",\n",
        "    messages = messages\n",
        "    )\n",
        "second_prompt_output = response.choice[0].message[\"content\"]\n",
        "print(second_prompt_output)"
      ],
      "metadata": {
        "id": "nOBXuVG3ctuk"
      },
      "execution_count": null,
      "outputs": []
    },
    {
      "cell_type": "code",
      "source": [
        "thirs_prompt = ''"
      ],
      "metadata": {
        "id": "cYjBjWQmdMvf"
      },
      "execution_count": null,
      "outputs": []
    },
    {
      "cell_type": "code",
      "source": [
        "messages = [{}]"
      ],
      "metadata": {
        "id": "3hsCAPBMdUJH"
      },
      "execution_count": null,
      "outputs": []
    },
    {
      "cell_type": "code",
      "source": [
        "history = []\n",
        "\n",
        "def chat(user_prompt, is_clear=False):\n",
        "\n",
        "  global history\n",
        "  if is_clear:\n",
        "    history=[]\n",
        "\n",
        "\n",
        ""
      ],
      "metadata": {
        "id": "kehbEJh7dk5k"
      },
      "execution_count": null,
      "outputs": []
    },
    {
      "cell_type": "code",
      "source": [],
      "metadata": {
        "id": "x1y_bZmliq_f"
      },
      "execution_count": null,
      "outputs": []
    }
  ]
}