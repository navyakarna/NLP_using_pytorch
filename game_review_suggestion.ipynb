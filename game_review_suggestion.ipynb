{
  "nbformat": 4,
  "nbformat_minor": 0,
  "metadata": {
    "colab": {
      "provenance": []
    },
    "kernelspec": {
      "name": "python3",
      "display_name": "Python 3"
    },
    "language_info": {
      "name": "python"
    }
  },
  "cells": [
    {
      "cell_type": "markdown",
      "source": [
        "#VIDEO GAME suggestion"
      ],
      "metadata": {
        "id": "kJT5r5_3CDBX"
      }
    },
    {
      "cell_type": "code",
      "execution_count": 1,
      "metadata": {
        "colab": {
          "base_uri": "https://localhost:8080/"
        },
        "id": "NBNaoEcKwdJv",
        "outputId": "55c14a2c-0895-47dc-cbef-bd5193898716"
      },
      "outputs": [
        {
          "output_type": "stream",
          "name": "stdout",
          "text": [
            "Requirement already satisfied: scikit-learn in /usr/local/lib/python3.11/dist-packages (1.6.1)\n",
            "Requirement already satisfied: numpy>=1.19.5 in /usr/local/lib/python3.11/dist-packages (from scikit-learn) (1.26.4)\n",
            "Requirement already satisfied: scipy>=1.6.0 in /usr/local/lib/python3.11/dist-packages (from scikit-learn) (1.13.1)\n",
            "Requirement already satisfied: joblib>=1.2.0 in /usr/local/lib/python3.11/dist-packages (from scikit-learn) (1.4.2)\n",
            "Requirement already satisfied: threadpoolctl>=3.1.0 in /usr/local/lib/python3.11/dist-packages (from scikit-learn) (3.5.0)\n"
          ]
        }
      ],
      "source": [
        "!pip install -U scikit-learn\n",
        "import nltk\n",
        "import spacy\n",
        "import pandas as pd\n",
        "import numpy as np\n",
        "from nltk.corpus import stopwords\n",
        "from nltk.stem import WordNetLemmatizer\n",
        "from sklearn.model_selection import train_test_split , cross_validate , StratifiedKFold\n",
        "from sklearn.pipeline import Pipeline\n",
        "from sklearn.feature_extraction.text import CountVectorizer , TfidfVectorizer\n",
        "from sklearn.naive_bayes import MultinomialNB, BernoulliNB\n",
        "from sklearn.metrics import accuracy_score , classification_report"
      ]
    },
    {
      "cell_type": "code",
      "source": [
        "nltk.download('punkt')\n",
        "nltk.download('stopwords')\n"
      ],
      "metadata": {
        "colab": {
          "base_uri": "https://localhost:8080/"
        },
        "id": "1Cd3Ie_8Gp35",
        "outputId": "b6bce119-b47d-42b3-cce2-439f2c963912"
      },
      "execution_count": 2,
      "outputs": [
        {
          "output_type": "stream",
          "name": "stderr",
          "text": [
            "[nltk_data] Downloading package punkt to /root/nltk_data...\n",
            "[nltk_data]   Unzipping tokenizers/punkt.zip.\n",
            "[nltk_data] Downloading package stopwords to /root/nltk_data...\n",
            "[nltk_data]   Unzipping corpora/stopwords.zip.\n"
          ]
        },
        {
          "output_type": "execute_result",
          "data": {
            "text/plain": [
              "True"
            ]
          },
          "metadata": {},
          "execution_count": 2
        }
      ]
    },
    {
      "cell_type": "code",
      "source": [
        "train = pd.read_csv('train.csv')\n",
        "validation = pd.read_csv('validation.csv')\n",
        "test = pd.read_csv('test.csv')"
      ],
      "metadata": {
        "id": "jEWAVhgyG0xE"
      },
      "execution_count": 3,
      "outputs": []
    },
    {
      "cell_type": "code",
      "source": [
        "train.shape , validation.shape , test.shape"
      ],
      "metadata": {
        "colab": {
          "base_uri": "https://localhost:8080/"
        },
        "id": "EzXoNuBLHbkB",
        "outputId": "072e9d14-83b1-4852-c0a3-39de8f7ffa03"
      },
      "execution_count": 4,
      "outputs": [
        {
          "output_type": "execute_result",
          "data": {
            "text/plain": [
              "((17877, 5), (3831, 5), (3831, 5))"
            ]
          },
          "metadata": {},
          "execution_count": 4
        }
      ]
    },
    {
      "cell_type": "code",
      "source": [
        "train.head()"
      ],
      "metadata": {
        "colab": {
          "base_uri": "https://localhost:8080/",
          "height": 293
        },
        "id": "u46gttRCHjMh",
        "outputId": "3c190e4f-1fb0-4b53-934f-96ff95ea47c8"
      },
      "execution_count": 5,
      "outputs": [
        {
          "output_type": "execute_result",
          "data": {
            "text/plain": [
              "   review_id                           title    year  \\\n",
              "0        460                     Black Squad  2018.0   \n",
              "1       2166   Tree of Savior (English Ver.)  2016.0   \n",
              "2      17242               Eternal Card Game  2016.0   \n",
              "3       6959  Tactical Monsters Rumble Arena  2018.0   \n",
              "4       8807            Yu-Gi-Oh! Duel Links  2017.0   \n",
              "\n",
              "                                         user_review  user_suggestion  \n",
              "0  Early Access ReviewVery great shooter, that ha...                1  \n",
              "1  I love love love playing this game!Super 100%!...                1  \n",
              "2  Early Access ReviewAs a fan of MTG and Hearths...                1  \n",
              "3  Turn based strategy game similiar to FF Tactic...                1  \n",
              "4  This game has an insanely huge download for be...                0  "
            ],
            "text/html": [
              "\n",
              "  <div id=\"df-b4d6782f-3406-402b-ab9e-71f52942c01b\" class=\"colab-df-container\">\n",
              "    <div>\n",
              "<style scoped>\n",
              "    .dataframe tbody tr th:only-of-type {\n",
              "        vertical-align: middle;\n",
              "    }\n",
              "\n",
              "    .dataframe tbody tr th {\n",
              "        vertical-align: top;\n",
              "    }\n",
              "\n",
              "    .dataframe thead th {\n",
              "        text-align: right;\n",
              "    }\n",
              "</style>\n",
              "<table border=\"1\" class=\"dataframe\">\n",
              "  <thead>\n",
              "    <tr style=\"text-align: right;\">\n",
              "      <th></th>\n",
              "      <th>review_id</th>\n",
              "      <th>title</th>\n",
              "      <th>year</th>\n",
              "      <th>user_review</th>\n",
              "      <th>user_suggestion</th>\n",
              "    </tr>\n",
              "  </thead>\n",
              "  <tbody>\n",
              "    <tr>\n",
              "      <th>0</th>\n",
              "      <td>460</td>\n",
              "      <td>Black Squad</td>\n",
              "      <td>2018.0</td>\n",
              "      <td>Early Access ReviewVery great shooter, that ha...</td>\n",
              "      <td>1</td>\n",
              "    </tr>\n",
              "    <tr>\n",
              "      <th>1</th>\n",
              "      <td>2166</td>\n",
              "      <td>Tree of Savior (English Ver.)</td>\n",
              "      <td>2016.0</td>\n",
              "      <td>I love love love playing this game!Super 100%!...</td>\n",
              "      <td>1</td>\n",
              "    </tr>\n",
              "    <tr>\n",
              "      <th>2</th>\n",
              "      <td>17242</td>\n",
              "      <td>Eternal Card Game</td>\n",
              "      <td>2016.0</td>\n",
              "      <td>Early Access ReviewAs a fan of MTG and Hearths...</td>\n",
              "      <td>1</td>\n",
              "    </tr>\n",
              "    <tr>\n",
              "      <th>3</th>\n",
              "      <td>6959</td>\n",
              "      <td>Tactical Monsters Rumble Arena</td>\n",
              "      <td>2018.0</td>\n",
              "      <td>Turn based strategy game similiar to FF Tactic...</td>\n",
              "      <td>1</td>\n",
              "    </tr>\n",
              "    <tr>\n",
              "      <th>4</th>\n",
              "      <td>8807</td>\n",
              "      <td>Yu-Gi-Oh! Duel Links</td>\n",
              "      <td>2017.0</td>\n",
              "      <td>This game has an insanely huge download for be...</td>\n",
              "      <td>0</td>\n",
              "    </tr>\n",
              "  </tbody>\n",
              "</table>\n",
              "</div>\n",
              "    <div class=\"colab-df-buttons\">\n",
              "\n",
              "  <div class=\"colab-df-container\">\n",
              "    <button class=\"colab-df-convert\" onclick=\"convertToInteractive('df-b4d6782f-3406-402b-ab9e-71f52942c01b')\"\n",
              "            title=\"Convert this dataframe to an interactive table.\"\n",
              "            style=\"display:none;\">\n",
              "\n",
              "  <svg xmlns=\"http://www.w3.org/2000/svg\" height=\"24px\" viewBox=\"0 -960 960 960\">\n",
              "    <path d=\"M120-120v-720h720v720H120Zm60-500h600v-160H180v160Zm220 220h160v-160H400v160Zm0 220h160v-160H400v160ZM180-400h160v-160H180v160Zm440 0h160v-160H620v160ZM180-180h160v-160H180v160Zm440 0h160v-160H620v160Z\"/>\n",
              "  </svg>\n",
              "    </button>\n",
              "\n",
              "  <style>\n",
              "    .colab-df-container {\n",
              "      display:flex;\n",
              "      gap: 12px;\n",
              "    }\n",
              "\n",
              "    .colab-df-convert {\n",
              "      background-color: #E8F0FE;\n",
              "      border: none;\n",
              "      border-radius: 50%;\n",
              "      cursor: pointer;\n",
              "      display: none;\n",
              "      fill: #1967D2;\n",
              "      height: 32px;\n",
              "      padding: 0 0 0 0;\n",
              "      width: 32px;\n",
              "    }\n",
              "\n",
              "    .colab-df-convert:hover {\n",
              "      background-color: #E2EBFA;\n",
              "      box-shadow: 0px 1px 2px rgba(60, 64, 67, 0.3), 0px 1px 3px 1px rgba(60, 64, 67, 0.15);\n",
              "      fill: #174EA6;\n",
              "    }\n",
              "\n",
              "    .colab-df-buttons div {\n",
              "      margin-bottom: 4px;\n",
              "    }\n",
              "\n",
              "    [theme=dark] .colab-df-convert {\n",
              "      background-color: #3B4455;\n",
              "      fill: #D2E3FC;\n",
              "    }\n",
              "\n",
              "    [theme=dark] .colab-df-convert:hover {\n",
              "      background-color: #434B5C;\n",
              "      box-shadow: 0px 1px 3px 1px rgba(0, 0, 0, 0.15);\n",
              "      filter: drop-shadow(0px 1px 2px rgba(0, 0, 0, 0.3));\n",
              "      fill: #FFFFFF;\n",
              "    }\n",
              "  </style>\n",
              "\n",
              "    <script>\n",
              "      const buttonEl =\n",
              "        document.querySelector('#df-b4d6782f-3406-402b-ab9e-71f52942c01b button.colab-df-convert');\n",
              "      buttonEl.style.display =\n",
              "        google.colab.kernel.accessAllowed ? 'block' : 'none';\n",
              "\n",
              "      async function convertToInteractive(key) {\n",
              "        const element = document.querySelector('#df-b4d6782f-3406-402b-ab9e-71f52942c01b');\n",
              "        const dataTable =\n",
              "          await google.colab.kernel.invokeFunction('convertToInteractive',\n",
              "                                                    [key], {});\n",
              "        if (!dataTable) return;\n",
              "\n",
              "        const docLinkHtml = 'Like what you see? Visit the ' +\n",
              "          '<a target=\"_blank\" href=https://colab.research.google.com/notebooks/data_table.ipynb>data table notebook</a>'\n",
              "          + ' to learn more about interactive tables.';\n",
              "        element.innerHTML = '';\n",
              "        dataTable['output_type'] = 'display_data';\n",
              "        await google.colab.output.renderOutput(dataTable, element);\n",
              "        const docLink = document.createElement('div');\n",
              "        docLink.innerHTML = docLinkHtml;\n",
              "        element.appendChild(docLink);\n",
              "      }\n",
              "    </script>\n",
              "  </div>\n",
              "\n",
              "\n",
              "<div id=\"df-6b653aa7-8e2a-444c-8458-7540d7f73fe8\">\n",
              "  <button class=\"colab-df-quickchart\" onclick=\"quickchart('df-6b653aa7-8e2a-444c-8458-7540d7f73fe8')\"\n",
              "            title=\"Suggest charts\"\n",
              "            style=\"display:none;\">\n",
              "\n",
              "<svg xmlns=\"http://www.w3.org/2000/svg\" height=\"24px\"viewBox=\"0 0 24 24\"\n",
              "     width=\"24px\">\n",
              "    <g>\n",
              "        <path d=\"M19 3H5c-1.1 0-2 .9-2 2v14c0 1.1.9 2 2 2h14c1.1 0 2-.9 2-2V5c0-1.1-.9-2-2-2zM9 17H7v-7h2v7zm4 0h-2V7h2v10zm4 0h-2v-4h2v4z\"/>\n",
              "    </g>\n",
              "</svg>\n",
              "  </button>\n",
              "\n",
              "<style>\n",
              "  .colab-df-quickchart {\n",
              "      --bg-color: #E8F0FE;\n",
              "      --fill-color: #1967D2;\n",
              "      --hover-bg-color: #E2EBFA;\n",
              "      --hover-fill-color: #174EA6;\n",
              "      --disabled-fill-color: #AAA;\n",
              "      --disabled-bg-color: #DDD;\n",
              "  }\n",
              "\n",
              "  [theme=dark] .colab-df-quickchart {\n",
              "      --bg-color: #3B4455;\n",
              "      --fill-color: #D2E3FC;\n",
              "      --hover-bg-color: #434B5C;\n",
              "      --hover-fill-color: #FFFFFF;\n",
              "      --disabled-bg-color: #3B4455;\n",
              "      --disabled-fill-color: #666;\n",
              "  }\n",
              "\n",
              "  .colab-df-quickchart {\n",
              "    background-color: var(--bg-color);\n",
              "    border: none;\n",
              "    border-radius: 50%;\n",
              "    cursor: pointer;\n",
              "    display: none;\n",
              "    fill: var(--fill-color);\n",
              "    height: 32px;\n",
              "    padding: 0;\n",
              "    width: 32px;\n",
              "  }\n",
              "\n",
              "  .colab-df-quickchart:hover {\n",
              "    background-color: var(--hover-bg-color);\n",
              "    box-shadow: 0 1px 2px rgba(60, 64, 67, 0.3), 0 1px 3px 1px rgba(60, 64, 67, 0.15);\n",
              "    fill: var(--button-hover-fill-color);\n",
              "  }\n",
              "\n",
              "  .colab-df-quickchart-complete:disabled,\n",
              "  .colab-df-quickchart-complete:disabled:hover {\n",
              "    background-color: var(--disabled-bg-color);\n",
              "    fill: var(--disabled-fill-color);\n",
              "    box-shadow: none;\n",
              "  }\n",
              "\n",
              "  .colab-df-spinner {\n",
              "    border: 2px solid var(--fill-color);\n",
              "    border-color: transparent;\n",
              "    border-bottom-color: var(--fill-color);\n",
              "    animation:\n",
              "      spin 1s steps(1) infinite;\n",
              "  }\n",
              "\n",
              "  @keyframes spin {\n",
              "    0% {\n",
              "      border-color: transparent;\n",
              "      border-bottom-color: var(--fill-color);\n",
              "      border-left-color: var(--fill-color);\n",
              "    }\n",
              "    20% {\n",
              "      border-color: transparent;\n",
              "      border-left-color: var(--fill-color);\n",
              "      border-top-color: var(--fill-color);\n",
              "    }\n",
              "    30% {\n",
              "      border-color: transparent;\n",
              "      border-left-color: var(--fill-color);\n",
              "      border-top-color: var(--fill-color);\n",
              "      border-right-color: var(--fill-color);\n",
              "    }\n",
              "    40% {\n",
              "      border-color: transparent;\n",
              "      border-right-color: var(--fill-color);\n",
              "      border-top-color: var(--fill-color);\n",
              "    }\n",
              "    60% {\n",
              "      border-color: transparent;\n",
              "      border-right-color: var(--fill-color);\n",
              "    }\n",
              "    80% {\n",
              "      border-color: transparent;\n",
              "      border-right-color: var(--fill-color);\n",
              "      border-bottom-color: var(--fill-color);\n",
              "    }\n",
              "    90% {\n",
              "      border-color: transparent;\n",
              "      border-bottom-color: var(--fill-color);\n",
              "    }\n",
              "  }\n",
              "</style>\n",
              "\n",
              "  <script>\n",
              "    async function quickchart(key) {\n",
              "      const quickchartButtonEl =\n",
              "        document.querySelector('#' + key + ' button');\n",
              "      quickchartButtonEl.disabled = true;  // To prevent multiple clicks.\n",
              "      quickchartButtonEl.classList.add('colab-df-spinner');\n",
              "      try {\n",
              "        const charts = await google.colab.kernel.invokeFunction(\n",
              "            'suggestCharts', [key], {});\n",
              "      } catch (error) {\n",
              "        console.error('Error during call to suggestCharts:', error);\n",
              "      }\n",
              "      quickchartButtonEl.classList.remove('colab-df-spinner');\n",
              "      quickchartButtonEl.classList.add('colab-df-quickchart-complete');\n",
              "    }\n",
              "    (() => {\n",
              "      let quickchartButtonEl =\n",
              "        document.querySelector('#df-6b653aa7-8e2a-444c-8458-7540d7f73fe8 button');\n",
              "      quickchartButtonEl.style.display =\n",
              "        google.colab.kernel.accessAllowed ? 'block' : 'none';\n",
              "    })();\n",
              "  </script>\n",
              "</div>\n",
              "\n",
              "    </div>\n",
              "  </div>\n"
            ],
            "application/vnd.google.colaboratory.intrinsic+json": {
              "type": "dataframe",
              "variable_name": "train",
              "summary": "{\n  \"name\": \"train\",\n  \"rows\": 17877,\n  \"fields\": [\n    {\n      \"column\": \"review_id\",\n      \"properties\": {\n        \"dtype\": \"number\",\n        \"std\": 6385,\n        \"min\": 0,\n        \"max\": 20427,\n        \"num_unique_values\": 14968,\n        \"samples\": [\n          16355,\n          10879,\n          7945\n        ],\n        \"semantic_type\": \"\",\n        \"description\": \"\"\n      }\n    },\n    {\n      \"column\": \"title\",\n      \"properties\": {\n        \"dtype\": \"category\",\n        \"num_unique_values\": 64,\n        \"samples\": [\n          \"RaceRoom Racing Experience\",\n          \"SMITE\\u00ae\",\n          \"Black Squad\"\n        ],\n        \"semantic_type\": \"\",\n        \"description\": \"\"\n      }\n    },\n    {\n      \"column\": \"year\",\n      \"properties\": {\n        \"dtype\": \"number\",\n        \"std\": 1.3697574180800602,\n        \"min\": 2011.0,\n        \"max\": 2018.0,\n        \"num_unique_values\": 8,\n        \"samples\": [\n          2016.0,\n          2013.0,\n          2018.0\n        ],\n        \"semantic_type\": \"\",\n        \"description\": \"\"\n      }\n    },\n    {\n      \"column\": \"user_review\",\n      \"properties\": {\n        \"dtype\": \"string\",\n        \"num_unique_values\": 17873,\n        \"samples\": [\n          \"worst pay to win garbage I've ever seen and that's saying a lot .. you spawn in starter server and go to a store .. it wants currency needed bought through cash payments .. wonder off into wilderness and 20 minutes later doing nothing because I won't pony up my wallet ... this game is pure garbage\",\n          \"Pretty good race sim, especially considering it is a free-to-play. The only problem is the framerate can drop on slightly lower powered machines like mine and the purchasing of extra cars/tracks you want can get expensive.\",\n          \"Its a good game, Its brings back Ragnarok in a new and better way.Look at it as a cross with Maple story (the grind for levels) + Ragnarok (the class and skill systems)Pros++-Alot of Fun classes to try out and build.-Not a very High learning curve for a MMORPG.-Skills and Attaks are pretty decent-Leveling can be fun with party or sometimes even solo-Daily Dungens that give you good expCons---The way the class system is set up can be confusing.-Once you mess a char up, There is no turning back unless you spend money or delete.-Buggy quest and controls in certain locations or to much clicking.-Poor optimaization, running at GTX 1080 8G still has FPS drops at certain areas.-Unable to rotate camera, Sometimes can obstructe your view and even block mobs/npc/players(OverAll)Over all a good game, been putting a lot of hours in it. Late game is also fun with guild wars Just like classic RO.Though this game is grindy, then again what MMORPG does not have a grind. All the more this is Free to play game.This a Grindy MMORPG where you build your character how you want to.Its Not Pay to win that i can assure you, as you can get most of the items in the game for in game SILVER.For more info ill be making an Update guide on my Up coming Youtube Channel. =D \"\n        ],\n        \"semantic_type\": \"\",\n        \"description\": \"\"\n      }\n    },\n    {\n      \"column\": \"user_suggestion\",\n      \"properties\": {\n        \"dtype\": \"number\",\n        \"std\": 0,\n        \"min\": 0,\n        \"max\": 1,\n        \"num_unique_values\": 2,\n        \"samples\": [\n          0,\n          1\n        ],\n        \"semantic_type\": \"\",\n        \"description\": \"\"\n      }\n    }\n  ]\n}"
            }
          },
          "metadata": {},
          "execution_count": 5
        }
      ]
    },
    {
      "cell_type": "code",
      "source": [
        "test.head()"
      ],
      "metadata": {
        "colab": {
          "base_uri": "https://localhost:8080/",
          "height": 293
        },
        "id": "xSVvte9qj_x_",
        "outputId": "437fb41d-1cea-4ee1-b80b-5be7fc976b60"
      },
      "execution_count": 6,
      "outputs": [
        {
          "output_type": "execute_result",
          "data": {
            "text/plain": [
              "   review_id                           title    year  \\\n",
              "0      12053          Infestation: The New Z  2016.0   \n",
              "1      12536                          SMITE®  2015.0   \n",
              "2        747               Heroes & Generals  2016.0   \n",
              "3       3214               World of Warships  2018.0   \n",
              "4       4036  World of Guns: Gun Disassembly  2016.0   \n",
              "\n",
              "                                         user_review  user_suggestion  \n",
              "0  Unbelievable that this rehash copy and paste t...                0  \n",
              "1  I can't recommened this game in its current st...                0  \n",
              "2  Early Access ReviewThis game is constantly evo...                0  \n",
              "3  I play this game because it scratches an itch....                0  \n",
              "4  Finally, a game for people like us to enjoy! P...                1  "
            ],
            "text/html": [
              "\n",
              "  <div id=\"df-fccd345a-ba38-4cb5-9c03-6306ab714279\" class=\"colab-df-container\">\n",
              "    <div>\n",
              "<style scoped>\n",
              "    .dataframe tbody tr th:only-of-type {\n",
              "        vertical-align: middle;\n",
              "    }\n",
              "\n",
              "    .dataframe tbody tr th {\n",
              "        vertical-align: top;\n",
              "    }\n",
              "\n",
              "    .dataframe thead th {\n",
              "        text-align: right;\n",
              "    }\n",
              "</style>\n",
              "<table border=\"1\" class=\"dataframe\">\n",
              "  <thead>\n",
              "    <tr style=\"text-align: right;\">\n",
              "      <th></th>\n",
              "      <th>review_id</th>\n",
              "      <th>title</th>\n",
              "      <th>year</th>\n",
              "      <th>user_review</th>\n",
              "      <th>user_suggestion</th>\n",
              "    </tr>\n",
              "  </thead>\n",
              "  <tbody>\n",
              "    <tr>\n",
              "      <th>0</th>\n",
              "      <td>12053</td>\n",
              "      <td>Infestation: The New Z</td>\n",
              "      <td>2016.0</td>\n",
              "      <td>Unbelievable that this rehash copy and paste t...</td>\n",
              "      <td>0</td>\n",
              "    </tr>\n",
              "    <tr>\n",
              "      <th>1</th>\n",
              "      <td>12536</td>\n",
              "      <td>SMITE®</td>\n",
              "      <td>2015.0</td>\n",
              "      <td>I can't recommened this game in its current st...</td>\n",
              "      <td>0</td>\n",
              "    </tr>\n",
              "    <tr>\n",
              "      <th>2</th>\n",
              "      <td>747</td>\n",
              "      <td>Heroes &amp; Generals</td>\n",
              "      <td>2016.0</td>\n",
              "      <td>Early Access ReviewThis game is constantly evo...</td>\n",
              "      <td>0</td>\n",
              "    </tr>\n",
              "    <tr>\n",
              "      <th>3</th>\n",
              "      <td>3214</td>\n",
              "      <td>World of Warships</td>\n",
              "      <td>2018.0</td>\n",
              "      <td>I play this game because it scratches an itch....</td>\n",
              "      <td>0</td>\n",
              "    </tr>\n",
              "    <tr>\n",
              "      <th>4</th>\n",
              "      <td>4036</td>\n",
              "      <td>World of Guns: Gun Disassembly</td>\n",
              "      <td>2016.0</td>\n",
              "      <td>Finally, a game for people like us to enjoy! P...</td>\n",
              "      <td>1</td>\n",
              "    </tr>\n",
              "  </tbody>\n",
              "</table>\n",
              "</div>\n",
              "    <div class=\"colab-df-buttons\">\n",
              "\n",
              "  <div class=\"colab-df-container\">\n",
              "    <button class=\"colab-df-convert\" onclick=\"convertToInteractive('df-fccd345a-ba38-4cb5-9c03-6306ab714279')\"\n",
              "            title=\"Convert this dataframe to an interactive table.\"\n",
              "            style=\"display:none;\">\n",
              "\n",
              "  <svg xmlns=\"http://www.w3.org/2000/svg\" height=\"24px\" viewBox=\"0 -960 960 960\">\n",
              "    <path d=\"M120-120v-720h720v720H120Zm60-500h600v-160H180v160Zm220 220h160v-160H400v160Zm0 220h160v-160H400v160ZM180-400h160v-160H180v160Zm440 0h160v-160H620v160ZM180-180h160v-160H180v160Zm440 0h160v-160H620v160Z\"/>\n",
              "  </svg>\n",
              "    </button>\n",
              "\n",
              "  <style>\n",
              "    .colab-df-container {\n",
              "      display:flex;\n",
              "      gap: 12px;\n",
              "    }\n",
              "\n",
              "    .colab-df-convert {\n",
              "      background-color: #E8F0FE;\n",
              "      border: none;\n",
              "      border-radius: 50%;\n",
              "      cursor: pointer;\n",
              "      display: none;\n",
              "      fill: #1967D2;\n",
              "      height: 32px;\n",
              "      padding: 0 0 0 0;\n",
              "      width: 32px;\n",
              "    }\n",
              "\n",
              "    .colab-df-convert:hover {\n",
              "      background-color: #E2EBFA;\n",
              "      box-shadow: 0px 1px 2px rgba(60, 64, 67, 0.3), 0px 1px 3px 1px rgba(60, 64, 67, 0.15);\n",
              "      fill: #174EA6;\n",
              "    }\n",
              "\n",
              "    .colab-df-buttons div {\n",
              "      margin-bottom: 4px;\n",
              "    }\n",
              "\n",
              "    [theme=dark] .colab-df-convert {\n",
              "      background-color: #3B4455;\n",
              "      fill: #D2E3FC;\n",
              "    }\n",
              "\n",
              "    [theme=dark] .colab-df-convert:hover {\n",
              "      background-color: #434B5C;\n",
              "      box-shadow: 0px 1px 3px 1px rgba(0, 0, 0, 0.15);\n",
              "      filter: drop-shadow(0px 1px 2px rgba(0, 0, 0, 0.3));\n",
              "      fill: #FFFFFF;\n",
              "    }\n",
              "  </style>\n",
              "\n",
              "    <script>\n",
              "      const buttonEl =\n",
              "        document.querySelector('#df-fccd345a-ba38-4cb5-9c03-6306ab714279 button.colab-df-convert');\n",
              "      buttonEl.style.display =\n",
              "        google.colab.kernel.accessAllowed ? 'block' : 'none';\n",
              "\n",
              "      async function convertToInteractive(key) {\n",
              "        const element = document.querySelector('#df-fccd345a-ba38-4cb5-9c03-6306ab714279');\n",
              "        const dataTable =\n",
              "          await google.colab.kernel.invokeFunction('convertToInteractive',\n",
              "                                                    [key], {});\n",
              "        if (!dataTable) return;\n",
              "\n",
              "        const docLinkHtml = 'Like what you see? Visit the ' +\n",
              "          '<a target=\"_blank\" href=https://colab.research.google.com/notebooks/data_table.ipynb>data table notebook</a>'\n",
              "          + ' to learn more about interactive tables.';\n",
              "        element.innerHTML = '';\n",
              "        dataTable['output_type'] = 'display_data';\n",
              "        await google.colab.output.renderOutput(dataTable, element);\n",
              "        const docLink = document.createElement('div');\n",
              "        docLink.innerHTML = docLinkHtml;\n",
              "        element.appendChild(docLink);\n",
              "      }\n",
              "    </script>\n",
              "  </div>\n",
              "\n",
              "\n",
              "<div id=\"df-c410a63f-fa04-4558-9b3c-5afad75b2614\">\n",
              "  <button class=\"colab-df-quickchart\" onclick=\"quickchart('df-c410a63f-fa04-4558-9b3c-5afad75b2614')\"\n",
              "            title=\"Suggest charts\"\n",
              "            style=\"display:none;\">\n",
              "\n",
              "<svg xmlns=\"http://www.w3.org/2000/svg\" height=\"24px\"viewBox=\"0 0 24 24\"\n",
              "     width=\"24px\">\n",
              "    <g>\n",
              "        <path d=\"M19 3H5c-1.1 0-2 .9-2 2v14c0 1.1.9 2 2 2h14c1.1 0 2-.9 2-2V5c0-1.1-.9-2-2-2zM9 17H7v-7h2v7zm4 0h-2V7h2v10zm4 0h-2v-4h2v4z\"/>\n",
              "    </g>\n",
              "</svg>\n",
              "  </button>\n",
              "\n",
              "<style>\n",
              "  .colab-df-quickchart {\n",
              "      --bg-color: #E8F0FE;\n",
              "      --fill-color: #1967D2;\n",
              "      --hover-bg-color: #E2EBFA;\n",
              "      --hover-fill-color: #174EA6;\n",
              "      --disabled-fill-color: #AAA;\n",
              "      --disabled-bg-color: #DDD;\n",
              "  }\n",
              "\n",
              "  [theme=dark] .colab-df-quickchart {\n",
              "      --bg-color: #3B4455;\n",
              "      --fill-color: #D2E3FC;\n",
              "      --hover-bg-color: #434B5C;\n",
              "      --hover-fill-color: #FFFFFF;\n",
              "      --disabled-bg-color: #3B4455;\n",
              "      --disabled-fill-color: #666;\n",
              "  }\n",
              "\n",
              "  .colab-df-quickchart {\n",
              "    background-color: var(--bg-color);\n",
              "    border: none;\n",
              "    border-radius: 50%;\n",
              "    cursor: pointer;\n",
              "    display: none;\n",
              "    fill: var(--fill-color);\n",
              "    height: 32px;\n",
              "    padding: 0;\n",
              "    width: 32px;\n",
              "  }\n",
              "\n",
              "  .colab-df-quickchart:hover {\n",
              "    background-color: var(--hover-bg-color);\n",
              "    box-shadow: 0 1px 2px rgba(60, 64, 67, 0.3), 0 1px 3px 1px rgba(60, 64, 67, 0.15);\n",
              "    fill: var(--button-hover-fill-color);\n",
              "  }\n",
              "\n",
              "  .colab-df-quickchart-complete:disabled,\n",
              "  .colab-df-quickchart-complete:disabled:hover {\n",
              "    background-color: var(--disabled-bg-color);\n",
              "    fill: var(--disabled-fill-color);\n",
              "    box-shadow: none;\n",
              "  }\n",
              "\n",
              "  .colab-df-spinner {\n",
              "    border: 2px solid var(--fill-color);\n",
              "    border-color: transparent;\n",
              "    border-bottom-color: var(--fill-color);\n",
              "    animation:\n",
              "      spin 1s steps(1) infinite;\n",
              "  }\n",
              "\n",
              "  @keyframes spin {\n",
              "    0% {\n",
              "      border-color: transparent;\n",
              "      border-bottom-color: var(--fill-color);\n",
              "      border-left-color: var(--fill-color);\n",
              "    }\n",
              "    20% {\n",
              "      border-color: transparent;\n",
              "      border-left-color: var(--fill-color);\n",
              "      border-top-color: var(--fill-color);\n",
              "    }\n",
              "    30% {\n",
              "      border-color: transparent;\n",
              "      border-left-color: var(--fill-color);\n",
              "      border-top-color: var(--fill-color);\n",
              "      border-right-color: var(--fill-color);\n",
              "    }\n",
              "    40% {\n",
              "      border-color: transparent;\n",
              "      border-right-color: var(--fill-color);\n",
              "      border-top-color: var(--fill-color);\n",
              "    }\n",
              "    60% {\n",
              "      border-color: transparent;\n",
              "      border-right-color: var(--fill-color);\n",
              "    }\n",
              "    80% {\n",
              "      border-color: transparent;\n",
              "      border-right-color: var(--fill-color);\n",
              "      border-bottom-color: var(--fill-color);\n",
              "    }\n",
              "    90% {\n",
              "      border-color: transparent;\n",
              "      border-bottom-color: var(--fill-color);\n",
              "    }\n",
              "  }\n",
              "</style>\n",
              "\n",
              "  <script>\n",
              "    async function quickchart(key) {\n",
              "      const quickchartButtonEl =\n",
              "        document.querySelector('#' + key + ' button');\n",
              "      quickchartButtonEl.disabled = true;  // To prevent multiple clicks.\n",
              "      quickchartButtonEl.classList.add('colab-df-spinner');\n",
              "      try {\n",
              "        const charts = await google.colab.kernel.invokeFunction(\n",
              "            'suggestCharts', [key], {});\n",
              "      } catch (error) {\n",
              "        console.error('Error during call to suggestCharts:', error);\n",
              "      }\n",
              "      quickchartButtonEl.classList.remove('colab-df-spinner');\n",
              "      quickchartButtonEl.classList.add('colab-df-quickchart-complete');\n",
              "    }\n",
              "    (() => {\n",
              "      let quickchartButtonEl =\n",
              "        document.querySelector('#df-c410a63f-fa04-4558-9b3c-5afad75b2614 button');\n",
              "      quickchartButtonEl.style.display =\n",
              "        google.colab.kernel.accessAllowed ? 'block' : 'none';\n",
              "    })();\n",
              "  </script>\n",
              "</div>\n",
              "\n",
              "    </div>\n",
              "  </div>\n"
            ],
            "application/vnd.google.colaboratory.intrinsic+json": {
              "type": "dataframe",
              "variable_name": "test",
              "summary": "{\n  \"name\": \"test\",\n  \"rows\": 3831,\n  \"fields\": [\n    {\n      \"column\": \"review_id\",\n      \"properties\": {\n        \"dtype\": \"number\",\n        \"std\": 6394,\n        \"min\": 1,\n        \"max\": 20430,\n        \"num_unique_values\": 3656,\n        \"samples\": [\n          2135,\n          10906,\n          3528\n        ],\n        \"semantic_type\": \"\",\n        \"description\": \"\"\n      }\n    },\n    {\n      \"column\": \"title\",\n      \"properties\": {\n        \"dtype\": \"category\",\n        \"num_unique_values\": 64,\n        \"samples\": [\n          \"Business Tour - Board Game with Online Multiplayer\",\n          \"Digimon Masters Online\",\n          \"Infestation: The New Z\"\n        ],\n        \"semantic_type\": \"\",\n        \"description\": \"\"\n      }\n    },\n    {\n      \"column\": \"year\",\n      \"properties\": {\n        \"dtype\": \"number\",\n        \"std\": 1.361334894446387,\n        \"min\": 2011.0,\n        \"max\": 2018.0,\n        \"num_unique_values\": 8,\n        \"samples\": [\n          2015.0,\n          2012.0,\n          2016.0\n        ],\n        \"semantic_type\": \"\",\n        \"description\": \"\"\n      }\n    },\n    {\n      \"column\": \"user_review\",\n      \"properties\": {\n        \"dtype\": \"string\",\n        \"num_unique_values\": 3831,\n        \"samples\": [\n          \" I don't speak English really well, so try to understand what is implied.  Counter-Strike: Global Offensive Review Counter-Strike is a series of multiplayer FPS games, where two teams, the Terrorists and the Counter-Terrorists, battle for a specific mission. The game was initially a mod for Half-Life, Valve's first game, until the sequels of the game were created some time later.Counter-Strike: Global Offensive is the latest game of the series, and today it is the most-popular competitive FPS game ever played. The game is just basically the same as the first Counter-Strike games, but a ton of additions and improvements were done.  Graphics First, the graphics. This is probably the biggest improvement in the series, as the game now looks more pleasing to the eyes, it has smooth movements throughout the game, and there has been a lot of decal improvements. Compared to the earlier games, Global Offensive provides a better and player-friendly nature thanks of today's modern graphics.Of course all of these cannot be achieved if you don't have the requirements to play on a flawless gameplay, but it is believed that it can run even on entry-level PC's.  Gameplay Gameplay. As I have said before, Global Offensive is mostly the same as the earlier games, consisting of the two game modes Bomb Scenario, wherein Terrorists must plant a bomb to a bomb site in a map and the Counter-Terrorists must defend or defuse the bomb if planted, and Hostage Scenario, wherein Counter-Terrorists must rescue hostages held by Terrorists.Though there are additionals game modes that can be played. These modes are the Arms Race, Demolition, and Deathmatch. (although I believe these modes can be played on the previous games through a mod)Global Offensive also made changes to the gun system, they have added more guns to the shop and made improvements to them.The sound is still the same as the previous ones, however, around this year they have made changes to the guns' sounds, But the sound from Global Offensive is a lot better and clear than the others. Community The community is what most Valve games' community have. There isn't really much to say here, although it's worth mentioning that the community on this game series is actually more friendly and cooperative than other Valve's games. And since this a competitive game, (I'd say highly competitive), a lot of players are pretty serious on playing since this involves a huge amount of cooperation with the team.Toxicity is somewhat not that visible to the game, so players who are really serious about competitive games are present. Miscellaneous Like DOTA 2 and Team Fortress 2, Valve's other popular games, Counter-Strike: Global Offensive has also what they call the inventory system. Here you can get item drops such as gun skins, gun stickers, and cases where you can get the gun skins and stickers. These items can be used to customize your gun loadout, or sell them to the Steam Market, where you can get money from. (If you are lucky, there are rare items which have high price on the market listings where you can sell those rare items for $$$.) Final Notes Overall, this game is one of the best games out there, for a cheap price, and offers a lot of opportunities to choose how you want to play the game. You could try making yourself into the game and go for the rankings, play casually to pass time, or probably to troll just to relieve stress and have fun for yourself. There is a lot of space for you to improve in the game, but still, like most multiplayer game does, playing this game with friends give the best possible experience and gameplay for the game.Counter-Strike: Global Offensive is not a pay-to-win game, and if you wanted to spend money on this game, make sure you just make it worth the money you spend on the game.-----------Definitely get this game if you want to get started on competitive gaming, or if you're just looking for a game that is worth the time and money spending. In fact, the most annoying and irritating things that could occur in the game is actually the most hilarious and most fun to deal with.Counter-Strike is a really popular game, so why not just get the game, and shoot down other players and join the fun?\",\n          \"While writting this review i've over 1000+ hours played, several characters with max lvl and finished all end game content.The good:- pretty good and enjoyable combat system (pretty much the reason i still play it)- decent graphics- option for free 2 play players to get almost everything from the real cash shop (though it's hard and time consuming)- decent events and promotions once in a while (includes pvp events)- hourly activity event system (this is one of the best things which can happen to MMO, it pretty much helps to reduce queue times and give some bonus rewards to the players)The Bad:- This game had few heavy curreny exploits which totaly ruined the econmy. Lot's of the exploited currency was not removed and impact this game to this day. Many exploiters were not banned and run in Best in Slot items without any penalty.- Real money means very little (unless you can spend several thousand of $ on a game). Basically if you would want to get full BIS gear you'd need like ~2k of real $.- Bugs take months to get fixed (if they even bother to fix them in the first place)- Lot's of Overpowered items which come from Lockboxes. (sadly this game is not living on cosmetics stuff like Dota 2)- Several end game instances is often nearly unplayable due to server lags.- Very poor Class Balance- Extremely poor PvP balance (for example, you can move your Best in slot enchant from your high lvl character to a totaly low lvl character and use it in pvp because it have no min. lvl required) - I think i dont have to explain how much impact it have. Even at max lvl pvp there's insane gear gap between players.- Refiling system - pretty much pay to win feature. It makes all your gear useless so you have to spend lot's of real $ to get nearly BIS or BIS gear or pray to get lucky with some extremely rare drops.- This game does very little to reduce the gap between old and new players. If this doesnt change in near future it will be the reason why this game dies.\",\n          \"Interesting, catching, funny and kind of comfortable game with great graphics and really nice community. If you want to spend some time living your Tolkien dreams, talking to awesome people, questing and deeding and crafting and roleplaying, this is just the game for you.Main towns and cities are well-arranged (no big chance to get lost, like I did many times trying to play Dungeons and Dragons), there's efficient navigation, quest tracking system and game guide, smooth and sensitive movement control (I don't get why it's so hard to turn in World of Warcraft or Age of Wulin, but perhaps it's my PC's fault), skill queue, automatic movement towards target (e.g. an ore deposit or a vendor) by right-clicking it and it's easy to get around an object in your path without turning (you just kind of slip around, hardly ever get stuck). Game has a honed race and class system, you can chose from basic to advanced difficulty classes and from 3 trait trees focusing on different skills and have real fun figuring out how to fight best. You can buy your own house, have fun with decorating it, store stuff in the chest (purchaseable space), exhibit your trophies. Crafting is easy and various, crafted items are usually far better than any you can buy (except the stock of the Auction House, where you can put something for sale yourself if you have free slots - VIPs get 30, Premium 5). There are many events where you can win great prizes, you can gain reputation with many societies and get privileges and awesome unique items, you can even chose to play the bad guys (Creeps) and create an orc or warg or spider and fight PvP against the Free Peoples (Freeps) at level 85. In the LOTRO Store you can buy whatever you like for real money, there's a great choice of buffs, additional slots (trait slots, inventory bags, chatacter slots,..), steeds, outfits, quests packs and more. It's not even necessary to use real money - you can earn Turbine points used in the Store by finishing deeds (it's slow, but hey - who gives you something for free these days?).When you're lost, you can always turn to the LOTRO-Wiki, there's usually everything you need to complete any quest or deed, even when you feel it's impossible to figure one out. And if not Wiki, you can get some answers from other players on the Advice chat channel. LOTRO's community is one of the kindest, most generous and most obliging in the gaming world.It's kind of comfortable to play this game, it's thrilling, sometimes scary, often funny and not always trivial. You don't have to quest and level, you can just relax and roleplay or craft or hunt materials, money and reputation. You can freely use the chat to meet great new people, join kinships and fellowships and have plenty of fun socializing. And beware - it's very addictive ;).\"\n        ],\n        \"semantic_type\": \"\",\n        \"description\": \"\"\n      }\n    },\n    {\n      \"column\": \"user_suggestion\",\n      \"properties\": {\n        \"dtype\": \"number\",\n        \"std\": 0,\n        \"min\": 0,\n        \"max\": 1,\n        \"num_unique_values\": 2,\n        \"samples\": [\n          1,\n          0\n        ],\n        \"semantic_type\": \"\",\n        \"description\": \"\"\n      }\n    }\n  ]\n}"
            }
          },
          "metadata": {},
          "execution_count": 6
        }
      ]
    },
    {
      "cell_type": "code",
      "source": [
        "validation.head()"
      ],
      "metadata": {
        "colab": {
          "base_uri": "https://localhost:8080/",
          "height": 293
        },
        "id": "L-CMS7BnkT7A",
        "outputId": "4b832d45-3648-4eb6-e460-4f5b3693fcf2"
      },
      "execution_count": 7,
      "outputs": [
        {
          "output_type": "execute_result",
          "data": {
            "text/plain": [
              "   review_id                 title    year  \\\n",
              "0       8604  Dungeon Defenders II  2015.0   \n",
              "1      20407        Minion Masters  2017.0   \n",
              "2        636           Magic Duels  2018.0   \n",
              "3      10217             Robocraft  2016.0   \n",
              "4       9564  Realm of the Mad God  2014.0   \n",
              "\n",
              "                                         user_review  user_suggestion  \n",
              "0  Early Access Review* Ok Played the first DD lo...                1  \n",
              "1  Product received for freeEarly Access ReviewSo...                1  \n",
              "2  Game is extremely unfun to play unless you wan...                0  \n",
              "3  Early Access ReviewThis used to be an amazing ...                0  \n",
              "4  With stunning visuals, an immersive storyline,...                1  "
            ],
            "text/html": [
              "\n",
              "  <div id=\"df-25b4b7eb-365c-4cce-b6b8-1bd29592aa11\" class=\"colab-df-container\">\n",
              "    <div>\n",
              "<style scoped>\n",
              "    .dataframe tbody tr th:only-of-type {\n",
              "        vertical-align: middle;\n",
              "    }\n",
              "\n",
              "    .dataframe tbody tr th {\n",
              "        vertical-align: top;\n",
              "    }\n",
              "\n",
              "    .dataframe thead th {\n",
              "        text-align: right;\n",
              "    }\n",
              "</style>\n",
              "<table border=\"1\" class=\"dataframe\">\n",
              "  <thead>\n",
              "    <tr style=\"text-align: right;\">\n",
              "      <th></th>\n",
              "      <th>review_id</th>\n",
              "      <th>title</th>\n",
              "      <th>year</th>\n",
              "      <th>user_review</th>\n",
              "      <th>user_suggestion</th>\n",
              "    </tr>\n",
              "  </thead>\n",
              "  <tbody>\n",
              "    <tr>\n",
              "      <th>0</th>\n",
              "      <td>8604</td>\n",
              "      <td>Dungeon Defenders II</td>\n",
              "      <td>2015.0</td>\n",
              "      <td>Early Access Review* Ok Played the first DD lo...</td>\n",
              "      <td>1</td>\n",
              "    </tr>\n",
              "    <tr>\n",
              "      <th>1</th>\n",
              "      <td>20407</td>\n",
              "      <td>Minion Masters</td>\n",
              "      <td>2017.0</td>\n",
              "      <td>Product received for freeEarly Access ReviewSo...</td>\n",
              "      <td>1</td>\n",
              "    </tr>\n",
              "    <tr>\n",
              "      <th>2</th>\n",
              "      <td>636</td>\n",
              "      <td>Magic Duels</td>\n",
              "      <td>2018.0</td>\n",
              "      <td>Game is extremely unfun to play unless you wan...</td>\n",
              "      <td>0</td>\n",
              "    </tr>\n",
              "    <tr>\n",
              "      <th>3</th>\n",
              "      <td>10217</td>\n",
              "      <td>Robocraft</td>\n",
              "      <td>2016.0</td>\n",
              "      <td>Early Access ReviewThis used to be an amazing ...</td>\n",
              "      <td>0</td>\n",
              "    </tr>\n",
              "    <tr>\n",
              "      <th>4</th>\n",
              "      <td>9564</td>\n",
              "      <td>Realm of the Mad God</td>\n",
              "      <td>2014.0</td>\n",
              "      <td>With stunning visuals, an immersive storyline,...</td>\n",
              "      <td>1</td>\n",
              "    </tr>\n",
              "  </tbody>\n",
              "</table>\n",
              "</div>\n",
              "    <div class=\"colab-df-buttons\">\n",
              "\n",
              "  <div class=\"colab-df-container\">\n",
              "    <button class=\"colab-df-convert\" onclick=\"convertToInteractive('df-25b4b7eb-365c-4cce-b6b8-1bd29592aa11')\"\n",
              "            title=\"Convert this dataframe to an interactive table.\"\n",
              "            style=\"display:none;\">\n",
              "\n",
              "  <svg xmlns=\"http://www.w3.org/2000/svg\" height=\"24px\" viewBox=\"0 -960 960 960\">\n",
              "    <path d=\"M120-120v-720h720v720H120Zm60-500h600v-160H180v160Zm220 220h160v-160H400v160Zm0 220h160v-160H400v160ZM180-400h160v-160H180v160Zm440 0h160v-160H620v160ZM180-180h160v-160H180v160Zm440 0h160v-160H620v160Z\"/>\n",
              "  </svg>\n",
              "    </button>\n",
              "\n",
              "  <style>\n",
              "    .colab-df-container {\n",
              "      display:flex;\n",
              "      gap: 12px;\n",
              "    }\n",
              "\n",
              "    .colab-df-convert {\n",
              "      background-color: #E8F0FE;\n",
              "      border: none;\n",
              "      border-radius: 50%;\n",
              "      cursor: pointer;\n",
              "      display: none;\n",
              "      fill: #1967D2;\n",
              "      height: 32px;\n",
              "      padding: 0 0 0 0;\n",
              "      width: 32px;\n",
              "    }\n",
              "\n",
              "    .colab-df-convert:hover {\n",
              "      background-color: #E2EBFA;\n",
              "      box-shadow: 0px 1px 2px rgba(60, 64, 67, 0.3), 0px 1px 3px 1px rgba(60, 64, 67, 0.15);\n",
              "      fill: #174EA6;\n",
              "    }\n",
              "\n",
              "    .colab-df-buttons div {\n",
              "      margin-bottom: 4px;\n",
              "    }\n",
              "\n",
              "    [theme=dark] .colab-df-convert {\n",
              "      background-color: #3B4455;\n",
              "      fill: #D2E3FC;\n",
              "    }\n",
              "\n",
              "    [theme=dark] .colab-df-convert:hover {\n",
              "      background-color: #434B5C;\n",
              "      box-shadow: 0px 1px 3px 1px rgba(0, 0, 0, 0.15);\n",
              "      filter: drop-shadow(0px 1px 2px rgba(0, 0, 0, 0.3));\n",
              "      fill: #FFFFFF;\n",
              "    }\n",
              "  </style>\n",
              "\n",
              "    <script>\n",
              "      const buttonEl =\n",
              "        document.querySelector('#df-25b4b7eb-365c-4cce-b6b8-1bd29592aa11 button.colab-df-convert');\n",
              "      buttonEl.style.display =\n",
              "        google.colab.kernel.accessAllowed ? 'block' : 'none';\n",
              "\n",
              "      async function convertToInteractive(key) {\n",
              "        const element = document.querySelector('#df-25b4b7eb-365c-4cce-b6b8-1bd29592aa11');\n",
              "        const dataTable =\n",
              "          await google.colab.kernel.invokeFunction('convertToInteractive',\n",
              "                                                    [key], {});\n",
              "        if (!dataTable) return;\n",
              "\n",
              "        const docLinkHtml = 'Like what you see? Visit the ' +\n",
              "          '<a target=\"_blank\" href=https://colab.research.google.com/notebooks/data_table.ipynb>data table notebook</a>'\n",
              "          + ' to learn more about interactive tables.';\n",
              "        element.innerHTML = '';\n",
              "        dataTable['output_type'] = 'display_data';\n",
              "        await google.colab.output.renderOutput(dataTable, element);\n",
              "        const docLink = document.createElement('div');\n",
              "        docLink.innerHTML = docLinkHtml;\n",
              "        element.appendChild(docLink);\n",
              "      }\n",
              "    </script>\n",
              "  </div>\n",
              "\n",
              "\n",
              "<div id=\"df-a5151d98-e44d-431d-bfa8-cf271a0c19c1\">\n",
              "  <button class=\"colab-df-quickchart\" onclick=\"quickchart('df-a5151d98-e44d-431d-bfa8-cf271a0c19c1')\"\n",
              "            title=\"Suggest charts\"\n",
              "            style=\"display:none;\">\n",
              "\n",
              "<svg xmlns=\"http://www.w3.org/2000/svg\" height=\"24px\"viewBox=\"0 0 24 24\"\n",
              "     width=\"24px\">\n",
              "    <g>\n",
              "        <path d=\"M19 3H5c-1.1 0-2 .9-2 2v14c0 1.1.9 2 2 2h14c1.1 0 2-.9 2-2V5c0-1.1-.9-2-2-2zM9 17H7v-7h2v7zm4 0h-2V7h2v10zm4 0h-2v-4h2v4z\"/>\n",
              "    </g>\n",
              "</svg>\n",
              "  </button>\n",
              "\n",
              "<style>\n",
              "  .colab-df-quickchart {\n",
              "      --bg-color: #E8F0FE;\n",
              "      --fill-color: #1967D2;\n",
              "      --hover-bg-color: #E2EBFA;\n",
              "      --hover-fill-color: #174EA6;\n",
              "      --disabled-fill-color: #AAA;\n",
              "      --disabled-bg-color: #DDD;\n",
              "  }\n",
              "\n",
              "  [theme=dark] .colab-df-quickchart {\n",
              "      --bg-color: #3B4455;\n",
              "      --fill-color: #D2E3FC;\n",
              "      --hover-bg-color: #434B5C;\n",
              "      --hover-fill-color: #FFFFFF;\n",
              "      --disabled-bg-color: #3B4455;\n",
              "      --disabled-fill-color: #666;\n",
              "  }\n",
              "\n",
              "  .colab-df-quickchart {\n",
              "    background-color: var(--bg-color);\n",
              "    border: none;\n",
              "    border-radius: 50%;\n",
              "    cursor: pointer;\n",
              "    display: none;\n",
              "    fill: var(--fill-color);\n",
              "    height: 32px;\n",
              "    padding: 0;\n",
              "    width: 32px;\n",
              "  }\n",
              "\n",
              "  .colab-df-quickchart:hover {\n",
              "    background-color: var(--hover-bg-color);\n",
              "    box-shadow: 0 1px 2px rgba(60, 64, 67, 0.3), 0 1px 3px 1px rgba(60, 64, 67, 0.15);\n",
              "    fill: var(--button-hover-fill-color);\n",
              "  }\n",
              "\n",
              "  .colab-df-quickchart-complete:disabled,\n",
              "  .colab-df-quickchart-complete:disabled:hover {\n",
              "    background-color: var(--disabled-bg-color);\n",
              "    fill: var(--disabled-fill-color);\n",
              "    box-shadow: none;\n",
              "  }\n",
              "\n",
              "  .colab-df-spinner {\n",
              "    border: 2px solid var(--fill-color);\n",
              "    border-color: transparent;\n",
              "    border-bottom-color: var(--fill-color);\n",
              "    animation:\n",
              "      spin 1s steps(1) infinite;\n",
              "  }\n",
              "\n",
              "  @keyframes spin {\n",
              "    0% {\n",
              "      border-color: transparent;\n",
              "      border-bottom-color: var(--fill-color);\n",
              "      border-left-color: var(--fill-color);\n",
              "    }\n",
              "    20% {\n",
              "      border-color: transparent;\n",
              "      border-left-color: var(--fill-color);\n",
              "      border-top-color: var(--fill-color);\n",
              "    }\n",
              "    30% {\n",
              "      border-color: transparent;\n",
              "      border-left-color: var(--fill-color);\n",
              "      border-top-color: var(--fill-color);\n",
              "      border-right-color: var(--fill-color);\n",
              "    }\n",
              "    40% {\n",
              "      border-color: transparent;\n",
              "      border-right-color: var(--fill-color);\n",
              "      border-top-color: var(--fill-color);\n",
              "    }\n",
              "    60% {\n",
              "      border-color: transparent;\n",
              "      border-right-color: var(--fill-color);\n",
              "    }\n",
              "    80% {\n",
              "      border-color: transparent;\n",
              "      border-right-color: var(--fill-color);\n",
              "      border-bottom-color: var(--fill-color);\n",
              "    }\n",
              "    90% {\n",
              "      border-color: transparent;\n",
              "      border-bottom-color: var(--fill-color);\n",
              "    }\n",
              "  }\n",
              "</style>\n",
              "\n",
              "  <script>\n",
              "    async function quickchart(key) {\n",
              "      const quickchartButtonEl =\n",
              "        document.querySelector('#' + key + ' button');\n",
              "      quickchartButtonEl.disabled = true;  // To prevent multiple clicks.\n",
              "      quickchartButtonEl.classList.add('colab-df-spinner');\n",
              "      try {\n",
              "        const charts = await google.colab.kernel.invokeFunction(\n",
              "            'suggestCharts', [key], {});\n",
              "      } catch (error) {\n",
              "        console.error('Error during call to suggestCharts:', error);\n",
              "      }\n",
              "      quickchartButtonEl.classList.remove('colab-df-spinner');\n",
              "      quickchartButtonEl.classList.add('colab-df-quickchart-complete');\n",
              "    }\n",
              "    (() => {\n",
              "      let quickchartButtonEl =\n",
              "        document.querySelector('#df-a5151d98-e44d-431d-bfa8-cf271a0c19c1 button');\n",
              "      quickchartButtonEl.style.display =\n",
              "        google.colab.kernel.accessAllowed ? 'block' : 'none';\n",
              "    })();\n",
              "  </script>\n",
              "</div>\n",
              "\n",
              "    </div>\n",
              "  </div>\n"
            ],
            "application/vnd.google.colaboratory.intrinsic+json": {
              "type": "dataframe",
              "variable_name": "validation",
              "summary": "{\n  \"name\": \"validation\",\n  \"rows\": 3831,\n  \"fields\": [\n    {\n      \"column\": \"review_id\",\n      \"properties\": {\n        \"dtype\": \"number\",\n        \"std\": 6350,\n        \"min\": 0,\n        \"max\": 20407,\n        \"num_unique_values\": 3685,\n        \"samples\": [\n          3735,\n          14968,\n          19812\n        ],\n        \"semantic_type\": \"\",\n        \"description\": \"\"\n      }\n    },\n    {\n      \"column\": \"title\",\n      \"properties\": {\n        \"dtype\": \"category\",\n        \"num_unique_values\": 64,\n        \"samples\": [\n          \"Neverwinter\",\n          \"Shop Heroes\",\n          \"Dungeon Defenders II\"\n        ],\n        \"semantic_type\": \"\",\n        \"description\": \"\"\n      }\n    },\n    {\n      \"column\": \"year\",\n      \"properties\": {\n        \"dtype\": \"number\",\n        \"std\": 1.3957262873268779,\n        \"min\": 2011.0,\n        \"max\": 2018.0,\n        \"num_unique_values\": 8,\n        \"samples\": [\n          2017.0,\n          2012.0,\n          2015.0\n        ],\n        \"semantic_type\": \"\",\n        \"description\": \"\"\n      }\n    },\n    {\n      \"column\": \"user_review\",\n      \"properties\": {\n        \"dtype\": \"string\",\n        \"num_unique_values\": 3831,\n        \"samples\": [\n          \"Early Access ReviewIt was good while it lasted; turns out you can't teach an old dog new tricks. Except in this case the dog is Hi-Rez and the trick is not ruining their games for once.\",\n          \"Dota 2 is one of those rare games which can get you addicted, but since you can play a game within an hour, you can stop it after each game with satisfaction - as in contrast to those endless MMORPGs.I've been playing it since the very release of the original Defense of the Ancients, and I still can't get bored with it. I've seen many friends who started out as total newbies and became very skilled. With Dota 2's matchmaking - even though it has its obvious flaws - it's even more fun for a beginner to get into the game. All in all, Dota2 is definately worth trying - even more so since it's free to play, and promises thousands of hours of potential fun!Feel free to try my Dota 2 themed Windows Desktop skin collection pack too, which you can find in the Dota 2 Artwork gallery:http://steamcommunity.com/sharedfiles/filedetails/?id=176107812 \",\n          \"It has a cartoony, fun style with more customization on both looks and abilities than any other game I've ever played. Like playing a healing paladin? You can make it! Like playing a gun toting super soldier with an attitude? You can make it! Like playing a vampire who glitters in sunlight and can control people's minds, bite them and suck their blood? YOU CAN MAKE IT!The raw customization this game gives you for free outshines most other games that make you pay for customization. Sure, it has quite a few options that require paying Zen, but it also has a (though slow to aquire) way to earn Zen just by playing the game. Questionite (one of the currencies) can be sold for Zen, and that can be used to buy anything from the cash store. Yeah, I did say it was slow, but another option is buying items with in game resources from the auction house. Almost anything that is tradable can be purchased there.Also, if you don't like the comic style outline, you can turn it off and have it look more like the other two superhero games and still have the extra customization this one affords you!\"\n        ],\n        \"semantic_type\": \"\",\n        \"description\": \"\"\n      }\n    },\n    {\n      \"column\": \"user_suggestion\",\n      \"properties\": {\n        \"dtype\": \"number\",\n        \"std\": 0,\n        \"min\": 0,\n        \"max\": 1,\n        \"num_unique_values\": 2,\n        \"samples\": [\n          0,\n          1\n        ],\n        \"semantic_type\": \"\",\n        \"description\": \"\"\n      }\n    }\n  ]\n}"
            }
          },
          "metadata": {},
          "execution_count": 7
        }
      ]
    },
    {
      "cell_type": "code",
      "source": [
        "test['user_suggestion'].value_counts() #target vaiable user_suggestion"
      ],
      "metadata": {
        "colab": {
          "base_uri": "https://localhost:8080/",
          "height": 178
        },
        "id": "vTHZXthzkX7a",
        "outputId": "9f319922-5821-49f6-cc23-105e28edf726"
      },
      "execution_count": 8,
      "outputs": [
        {
          "output_type": "execute_result",
          "data": {
            "text/plain": [
              "user_suggestion\n",
              "1    2187\n",
              "0    1644\n",
              "Name: count, dtype: int64"
            ],
            "text/html": [
              "<div>\n",
              "<style scoped>\n",
              "    .dataframe tbody tr th:only-of-type {\n",
              "        vertical-align: middle;\n",
              "    }\n",
              "\n",
              "    .dataframe tbody tr th {\n",
              "        vertical-align: top;\n",
              "    }\n",
              "\n",
              "    .dataframe thead th {\n",
              "        text-align: right;\n",
              "    }\n",
              "</style>\n",
              "<table border=\"1\" class=\"dataframe\">\n",
              "  <thead>\n",
              "    <tr style=\"text-align: right;\">\n",
              "      <th></th>\n",
              "      <th>count</th>\n",
              "    </tr>\n",
              "    <tr>\n",
              "      <th>user_suggestion</th>\n",
              "      <th></th>\n",
              "    </tr>\n",
              "  </thead>\n",
              "  <tbody>\n",
              "    <tr>\n",
              "      <th>1</th>\n",
              "      <td>2187</td>\n",
              "    </tr>\n",
              "    <tr>\n",
              "      <th>0</th>\n",
              "      <td>1644</td>\n",
              "    </tr>\n",
              "  </tbody>\n",
              "</table>\n",
              "</div><br><label><b>dtype:</b> int64</label>"
            ]
          },
          "metadata": {},
          "execution_count": 8
        }
      ]
    },
    {
      "cell_type": "code",
      "source": [
        "#load spacy english model\n",
        "# since we are not using NER we can disable it to speedup\n",
        "nlp = spacy.load('en_core_web_sm', disable='ner')"
      ],
      "metadata": {
        "id": "DCmWrJh2krkb"
      },
      "execution_count": 9,
      "outputs": []
    },
    {
      "cell_type": "code",
      "source": [
        "def preprocess_text(texts):\n",
        "    # lemmatize the tokens and store them in a list\n",
        "    processed_texts = []\n",
        "    for doc in nlp.pipe(texts, n_process=-1):\n",
        "        lemmatized_tokens = [token.lemma_.lower() for token in doc if token.is_alpha and token.lemma_ not in nlp.Defaults.stop_words]\n",
        "\n",
        "        # Join the lemmatized tokens into a string\n",
        "        processed_text = \" \".join(lemmatized_tokens)\n",
        "\n",
        "        processed_texts.append(processed_text)\n",
        "\n",
        "    return processed_texts\n"
      ],
      "metadata": {
        "id": "j2q8LDZUk6Ym"
      },
      "execution_count": 10,
      "outputs": []
    },
    {
      "cell_type": "code",
      "source": [
        "train['user_review'] = preprocess_text(train['user_review'])\n",
        "validation['user_review'] = preprocess_text(validation['user_review'])\n",
        "test['user_review'] = preprocess_text(test['user_review'])"
      ],
      "metadata": {
        "id": "4kjql8FCmVDr"
      },
      "execution_count": 11,
      "outputs": []
    },
    {
      "cell_type": "code",
      "source": [
        "train['user_review'].head()\n"
      ],
      "metadata": {
        "colab": {
          "base_uri": "https://localhost:8080/",
          "height": 241
        },
        "id": "_Kh3XoQPm2qx",
        "outputId": "7122c5bc-0b02-4409-c44a-24cf052bbe49"
      },
      "execution_count": 12,
      "outputs": [
        {
          "output_type": "execute_result",
          "data": {
            "text/plain": [
              "0    early access reviewvery great shooter original...\n",
              "1    i love love love play lot class choose bound s...\n",
              "2    early access reviewas fan mtg hearthstone fun ...\n",
              "3    turn base strategy game similiar ff tactic day...\n",
              "4    game insanely huge download phone game blast v...\n",
              "Name: user_review, dtype: object"
            ],
            "text/html": [
              "<div>\n",
              "<style scoped>\n",
              "    .dataframe tbody tr th:only-of-type {\n",
              "        vertical-align: middle;\n",
              "    }\n",
              "\n",
              "    .dataframe tbody tr th {\n",
              "        vertical-align: top;\n",
              "    }\n",
              "\n",
              "    .dataframe thead th {\n",
              "        text-align: right;\n",
              "    }\n",
              "</style>\n",
              "<table border=\"1\" class=\"dataframe\">\n",
              "  <thead>\n",
              "    <tr style=\"text-align: right;\">\n",
              "      <th></th>\n",
              "      <th>user_review</th>\n",
              "    </tr>\n",
              "  </thead>\n",
              "  <tbody>\n",
              "    <tr>\n",
              "      <th>0</th>\n",
              "      <td>early access reviewvery great shooter original...</td>\n",
              "    </tr>\n",
              "    <tr>\n",
              "      <th>1</th>\n",
              "      <td>i love love love play lot class choose bound s...</td>\n",
              "    </tr>\n",
              "    <tr>\n",
              "      <th>2</th>\n",
              "      <td>early access reviewas fan mtg hearthstone fun ...</td>\n",
              "    </tr>\n",
              "    <tr>\n",
              "      <th>3</th>\n",
              "      <td>turn base strategy game similiar ff tactic day...</td>\n",
              "    </tr>\n",
              "    <tr>\n",
              "      <th>4</th>\n",
              "      <td>game insanely huge download phone game blast v...</td>\n",
              "    </tr>\n",
              "  </tbody>\n",
              "</table>\n",
              "</div><br><label><b>dtype:</b> object</label>"
            ]
          },
          "metadata": {},
          "execution_count": 12
        }
      ]
    },
    {
      "cell_type": "code",
      "source": [
        "count_vectorizer_ohe = CountVectorizer(min_df=0.001, binary =True) # Changed min_dif to min_df\n"
      ],
      "metadata": {
        "id": "Dx8VIborn-gS"
      },
      "execution_count": 13,
      "outputs": []
    },
    {
      "cell_type": "code",
      "source": [
        "count_vectorizer_ohe_train = count_vectorizer_ohe.fit_transform(train['user_review'])"
      ],
      "metadata": {
        "id": "F-nPrf5hoJ8T"
      },
      "execution_count": 14,
      "outputs": []
    },
    {
      "cell_type": "markdown",
      "source": [
        "BUILDING Naive Bayes Model"
      ],
      "metadata": {
        "id": "m9AxVVbgpieC"
      }
    },
    {
      "cell_type": "code",
      "source": [
        "naive_bayes_classifier = BernoulliNB()"
      ],
      "metadata": {
        "id": "Uy9IX4nwp-F_"
      },
      "execution_count": 15,
      "outputs": []
    },
    {
      "cell_type": "code",
      "source": [
        "naive_bayes_classifier.fit(count_vectorizer_ohe_train, train['user_suggestion'])\n",
        "naive_bayes_classifier.score(count_vectorizer_ohe_train, train['user_suggestion'])"
      ],
      "metadata": {
        "colab": {
          "base_uri": "https://localhost:8080/"
        },
        "id": "EedVOjx2qbRA",
        "outputId": "bb616054-5277-4e09-91fc-599ff3c80c59"
      },
      "execution_count": 16,
      "outputs": [
        {
          "output_type": "execute_result",
          "data": {
            "text/plain": [
              "0.8258096996140292"
            ]
          },
          "metadata": {},
          "execution_count": 16
        }
      ]
    },
    {
      "cell_type": "code",
      "source": [
        "count_vectorizer_ohe_val = count_vectorizer_ohe.transform(validation['user_review'])\n",
        "naive_bayes_classifier.score(count_vectorizer_ohe_val, validation['user_suggestion'])"
      ],
      "metadata": {
        "colab": {
          "base_uri": "https://localhost:8080/"
        },
        "id": "ABzFfiQCq8ac",
        "outputId": "357d6f1d-6f21-4a8f-d7c7-107dd1e37ca6"
      },
      "execution_count": 17,
      "outputs": [
        {
          "output_type": "execute_result",
          "data": {
            "text/plain": [
              "0.8120595144870791"
            ]
          },
          "metadata": {},
          "execution_count": 17
        }
      ]
    },
    {
      "cell_type": "code",
      "source": [
        "count_vectorizer = CountVectorizer(min_df=0.001)"
      ],
      "metadata": {
        "id": "M1-A0UYKrZWm"
      },
      "execution_count": 18,
      "outputs": []
    },
    {
      "cell_type": "code",
      "source": [
        "count_vectorizer_train = count_vectorizer.fit_transform(train['user_review'])"
      ],
      "metadata": {
        "id": "rAZBgnDArx0R"
      },
      "execution_count": 19,
      "outputs": []
    },
    {
      "cell_type": "code",
      "source": [
        "naive_bayes_classifier = MultinomialNB()"
      ],
      "metadata": {
        "id": "QBTEZ8HJsKgO"
      },
      "execution_count": 20,
      "outputs": []
    },
    {
      "cell_type": "code",
      "source": [
        "naive_bayes_classifier.fit(count_vectorizer_ohe_train, train['user_suggestion'])\n",
        "naive_bayes_classifier.score(count_vectorizer_ohe_train, train['user_suggestion'])"
      ],
      "metadata": {
        "colab": {
          "base_uri": "https://localhost:8080/"
        },
        "id": "TCv2LX9UsYe8",
        "outputId": "19f61ea8-6001-4da4-9c33-67f90779be4c"
      },
      "execution_count": 21,
      "outputs": [
        {
          "output_type": "execute_result",
          "data": {
            "text/plain": [
              "0.8452760530290317"
            ]
          },
          "metadata": {},
          "execution_count": 21
        }
      ]
    },
    {
      "cell_type": "code",
      "source": [
        "count_vectorizer_ohe_val = count_vectorizer_ohe.transform(validation['user_review'])\n",
        "naive_bayes_classifier.score(count_vectorizer_ohe_val, validation['user_suggestion'])"
      ],
      "metadata": {
        "colab": {
          "base_uri": "https://localhost:8080/"
        },
        "id": "ljenPSAgxqBx",
        "outputId": "5fb8bc7c-6a65-474d-ecfd-10b743d6bbc5"
      },
      "execution_count": 22,
      "outputs": [
        {
          "output_type": "execute_result",
          "data": {
            "text/plain": [
              "0.8261550509005482"
            ]
          },
          "metadata": {},
          "execution_count": 22
        }
      ]
    },
    {
      "cell_type": "code",
      "source": [
        "from sklearn.feature_extraction.text import TfidfVectorizer"
      ],
      "metadata": {
        "id": "k3p1dj4B26fB"
      },
      "execution_count": 23,
      "outputs": []
    },
    {
      "cell_type": "code",
      "source": [
        "tfidf_vectorizer = TfidfVectorizer(min_df=0.001)\n"
      ],
      "metadata": {
        "id": "5ySYxoNryMdT"
      },
      "execution_count": 24,
      "outputs": []
    },
    {
      "cell_type": "code",
      "source": [
        "tfidf_vectorizer_train = tfidf_vectorizer.fit_transform(train['user_review'])\n",
        "# Initialize the classifier, for example, using MultinomialNB\n",
        "tfidf_vectorizer_classifier = MultinomialNB() # Added this line to initialize the classifier\n",
        "tfidf_vectorizer_classifier.fit(tfidf_vectorizer_train, train['user_suggestion'])\n",
        "tfidf_vectorizer_classifier.score(tfidf_vectorizer_train, train['user_suggestion'])"
      ],
      "metadata": {
        "colab": {
          "base_uri": "https://localhost:8080/"
        },
        "id": "rNJfgUoj2m6K",
        "outputId": "b3581b85-fa8e-4386-a78e-ce4cfa0b85bf"
      },
      "execution_count": 25,
      "outputs": [
        {
          "output_type": "execute_result",
          "data": {
            "text/plain": [
              "0.8414722828215024"
            ]
          },
          "metadata": {},
          "execution_count": 25
        }
      ]
    },
    {
      "cell_type": "code",
      "source": [
        "tfidf_vectorizer_val = tfidf_vectorizer.transform(validation['user_review'])\n",
        "tfidf_vectorizer_classifier.score(tfidf_vectorizer_val, validation['user_suggestion'])"
      ],
      "metadata": {
        "colab": {
          "base_uri": "https://localhost:8080/"
        },
        "id": "zjac_xFk3zJR",
        "outputId": "6271b986-5328-444a-912d-b4035a0161b3"
      },
      "execution_count": 26,
      "outputs": [
        {
          "output_type": "execute_result",
          "data": {
            "text/plain": [
              "0.8209344818585226"
            ]
          },
          "metadata": {},
          "execution_count": 26
        }
      ]
    },
    {
      "cell_type": "markdown",
      "source": [
        "#USING N-GRAM WITH TF-IDF"
      ],
      "metadata": {
        "id": "0NDbl6kaJwOm"
      }
    },
    {
      "cell_type": "code",
      "source": [
        "tfidf_ngram_vectorizer = TfidfVectorizer(min_df= 0.001, ngram_range=(1,3))"
      ],
      "metadata": {
        "id": "9fIui-p6JvXC"
      },
      "execution_count": 27,
      "outputs": []
    },
    {
      "cell_type": "code",
      "source": [
        "tfidf_ngram_vectorizer_train = tfidf_ngram_vectorizer.fit_transform(train['user_review'])\n",
        "# Initialize tfidf_ngram_classifier with a classifier like MultinomialNB\n",
        " # This line initializes the classifier\n",
        "naive_bayes_classifier.fit(tfidf_ngram_vectorizer_train, train['user_suggestion'])\n",
        "naive_bayes_classifier.score(tfidf_ngram_vectorizer_train, train['user_suggestion'])"
      ],
      "metadata": {
        "colab": {
          "base_uri": "https://localhost:8080/"
        },
        "id": "yCyp5QMNKDVQ",
        "outputId": "e2e3dbfe-eccf-4034-c788-38dd766d78d9"
      },
      "execution_count": 28,
      "outputs": [
        {
          "output_type": "execute_result",
          "data": {
            "text/plain": [
              "0.859204564524249"
            ]
          },
          "metadata": {},
          "execution_count": 28
        }
      ]
    },
    {
      "cell_type": "code",
      "source": [
        "tfidf_ngram_vectorizer.get_feature_names_out()[150:160]"
      ],
      "metadata": {
        "colab": {
          "base_uri": "https://localhost:8080/"
        },
        "id": "v5OvFH9bL8HO",
        "outputId": "807634a1-4e22-48b9-a0c3-fc4e39ea4998"
      },
      "execution_count": 29,
      "outputs": [
        {
          "output_type": "execute_result",
          "data": {
            "text/plain": [
              "array(['actually good', 'actually like', 'actually look', 'actually play',\n",
              "       'actually play game', 'actually pretty', 'actually use',\n",
              "       'actually want', 'actually work', 'actualy'], dtype=object)"
            ]
          },
          "metadata": {},
          "execution_count": 29
        }
      ]
    },
    {
      "cell_type": "code",
      "source": [
        "tfidf_ngram_vectorizer_val = tfidf_ngram_vectorizer.transform(validation['user_review'])\n",
        "naive_bayes_classifier.score(tfidf_ngram_vectorizer_val, validation['user_suggestion'])"
      ],
      "metadata": {
        "colab": {
          "base_uri": "https://localhost:8080/"
        },
        "id": "f3pwZvqUMR_X",
        "outputId": "b7fb4f26-bf22-4aa9-8abe-4057d832cb70"
      },
      "execution_count": 30,
      "outputs": [
        {
          "output_type": "execute_result",
          "data": {
            "text/plain": [
              "0.828765335421561"
            ]
          },
          "metadata": {},
          "execution_count": 30
        }
      ]
    },
    {
      "cell_type": "code",
      "source": [
        "count_ngram_vectorizer = CountVectorizer(min_df=0.001, ngram_range=(1,3))"
      ],
      "metadata": {
        "id": "AxZyLCaVMuf3"
      },
      "execution_count": 31,
      "outputs": []
    },
    {
      "cell_type": "code",
      "source": [
        "nlp = spacy.load(\"en_core_web_sm\")\n"
      ],
      "metadata": {
        "id": "ucQ1HhIbNB5S"
      },
      "execution_count": 32,
      "outputs": []
    },
    {
      "cell_type": "code",
      "source": [
        "def preprocess_text_spacy(processed_texts):\n",
        "    # Tokenization and POS tagging\n",
        "    pos_texts = []\n",
        "    for doc in nlp.pipe(processed_texts):\n",
        "        pos_tags = [token.pos_ for token in doc]\n",
        "        pos_text = \" \".join(pos_tags)\n",
        "        pos_texts.append(pos_text)\n",
        "\n",
        "    # Named Entity Recognition (NER)\n",
        "    ner_texts = []\n",
        "    for doc in nlp.pipe(processed_texts):\n",
        "        ner_tags = [token.ent_type_ if token.ent_type_ else \"O\" for token in doc]\n",
        "        ner_text = \" \".join(ner_tags)\n",
        "        ner_texts.append(ner_text)\n",
        "\n",
        "    return [pos_texts, ner_texts]"
      ],
      "metadata": {
        "id": "0UlOlvO2YAgO"
      },
      "execution_count": 33,
      "outputs": []
    },
    {
      "cell_type": "code",
      "source": [
        "#applying preprocess_text_spacy function to user_review column for train data\n",
        "pos_texts, ner_texts = preprocess_text_spacy(train['user_review'])"
      ],
      "metadata": {
        "id": "7OQ0A5s_a1R8"
      },
      "execution_count": 34,
      "outputs": []
    },
    {
      "cell_type": "code",
      "source": [
        "train['pos_tags'] = pos_texts\n",
        "train['ner_tags'] = ner_texts"
      ],
      "metadata": {
        "id": "ILPwShgXeexg"
      },
      "execution_count": 35,
      "outputs": []
    },
    {
      "cell_type": "code",
      "source": [
        "train.head()"
      ],
      "metadata": {
        "colab": {
          "base_uri": "https://localhost:8080/",
          "height": 605
        },
        "id": "RSWLlMBVfn7w",
        "outputId": "98f77b9c-4b34-4572-c2ed-a43489031187"
      },
      "execution_count": 36,
      "outputs": [
        {
          "output_type": "execute_result",
          "data": {
            "text/plain": [
              "   review_id                           title    year  \\\n",
              "0        460                     Black Squad  2018.0   \n",
              "1       2166   Tree of Savior (English Ver.)  2016.0   \n",
              "2      17242               Eternal Card Game  2016.0   \n",
              "3       6959  Tactical Monsters Rumble Arena  2018.0   \n",
              "4       8807            Yu-Gi-Oh! Duel Links  2017.0   \n",
              "\n",
              "                                         user_review  user_suggestion  \\\n",
              "0  early access reviewvery great shooter original...                1   \n",
              "1  i love love love play lot class choose bound s...                1   \n",
              "2  early access reviewas fan mtg hearthstone fun ...                1   \n",
              "3  turn base strategy game similiar ff tactic day...                1   \n",
              "4  game insanely huge download phone game blast v...                0   \n",
              "\n",
              "                                            pos_tags  \\\n",
              "0  ADJ NOUN NOUN ADJ ADJ NOUN NOUN PROPN VERB NOU...   \n",
              "1  PRON VERB NOUN NOUN NOUN NOUN NOUN VERB VERB A...   \n",
              "2  ADJ NOUN VERB PROPN PROPN NOUN NOUN NOUN ADJ N...   \n",
              "3  VERB NOUN NOUN NOUN ADJ ADJ NOUN NOUN VERB ADV...   \n",
              "4  NOUN ADV ADJ NOUN NOUN NOUN NOUN NOUN ADJ NOUN...   \n",
              "\n",
              "                                            ner_tags  \n",
              "0  O O O O O O O O O O O O O O O O O O O O O O O ...  \n",
              "1                        O O O O O O O O O O O O O O  \n",
              "2            O O O O O O O O O O O O O O O O O O O O  \n",
              "3  O O O O O O DATE DATE O O O O O O O O O O O O ...  \n",
              "4                      O O O O O O O O O O O O O O O  "
            ],
            "text/html": [
              "\n",
              "  <div id=\"df-98eb4390-1351-43e1-b4d1-0ebb88c85e58\" class=\"colab-df-container\">\n",
              "    <div>\n",
              "<style scoped>\n",
              "    .dataframe tbody tr th:only-of-type {\n",
              "        vertical-align: middle;\n",
              "    }\n",
              "\n",
              "    .dataframe tbody tr th {\n",
              "        vertical-align: top;\n",
              "    }\n",
              "\n",
              "    .dataframe thead th {\n",
              "        text-align: right;\n",
              "    }\n",
              "</style>\n",
              "<table border=\"1\" class=\"dataframe\">\n",
              "  <thead>\n",
              "    <tr style=\"text-align: right;\">\n",
              "      <th></th>\n",
              "      <th>review_id</th>\n",
              "      <th>title</th>\n",
              "      <th>year</th>\n",
              "      <th>user_review</th>\n",
              "      <th>user_suggestion</th>\n",
              "      <th>pos_tags</th>\n",
              "      <th>ner_tags</th>\n",
              "    </tr>\n",
              "  </thead>\n",
              "  <tbody>\n",
              "    <tr>\n",
              "      <th>0</th>\n",
              "      <td>460</td>\n",
              "      <td>Black Squad</td>\n",
              "      <td>2018.0</td>\n",
              "      <td>early access reviewvery great shooter original...</td>\n",
              "      <td>1</td>\n",
              "      <td>ADJ NOUN NOUN ADJ ADJ NOUN NOUN PROPN VERB NOU...</td>\n",
              "      <td>O O O O O O O O O O O O O O O O O O O O O O O ...</td>\n",
              "    </tr>\n",
              "    <tr>\n",
              "      <th>1</th>\n",
              "      <td>2166</td>\n",
              "      <td>Tree of Savior (English Ver.)</td>\n",
              "      <td>2016.0</td>\n",
              "      <td>i love love love play lot class choose bound s...</td>\n",
              "      <td>1</td>\n",
              "      <td>PRON VERB NOUN NOUN NOUN NOUN NOUN VERB VERB A...</td>\n",
              "      <td>O O O O O O O O O O O O O O</td>\n",
              "    </tr>\n",
              "    <tr>\n",
              "      <th>2</th>\n",
              "      <td>17242</td>\n",
              "      <td>Eternal Card Game</td>\n",
              "      <td>2016.0</td>\n",
              "      <td>early access reviewas fan mtg hearthstone fun ...</td>\n",
              "      <td>1</td>\n",
              "      <td>ADJ NOUN VERB PROPN PROPN NOUN NOUN NOUN ADJ N...</td>\n",
              "      <td>O O O O O O O O O O O O O O O O O O O O</td>\n",
              "    </tr>\n",
              "    <tr>\n",
              "      <th>3</th>\n",
              "      <td>6959</td>\n",
              "      <td>Tactical Monsters Rumble Arena</td>\n",
              "      <td>2018.0</td>\n",
              "      <td>turn base strategy game similiar ff tactic day...</td>\n",
              "      <td>1</td>\n",
              "      <td>VERB NOUN NOUN NOUN ADJ ADJ NOUN NOUN VERB ADV...</td>\n",
              "      <td>O O O O O O DATE DATE O O O O O O O O O O O O ...</td>\n",
              "    </tr>\n",
              "    <tr>\n",
              "      <th>4</th>\n",
              "      <td>8807</td>\n",
              "      <td>Yu-Gi-Oh! Duel Links</td>\n",
              "      <td>2017.0</td>\n",
              "      <td>game insanely huge download phone game blast v...</td>\n",
              "      <td>0</td>\n",
              "      <td>NOUN ADV ADJ NOUN NOUN NOUN NOUN NOUN ADJ NOUN...</td>\n",
              "      <td>O O O O O O O O O O O O O O O</td>\n",
              "    </tr>\n",
              "  </tbody>\n",
              "</table>\n",
              "</div>\n",
              "    <div class=\"colab-df-buttons\">\n",
              "\n",
              "  <div class=\"colab-df-container\">\n",
              "    <button class=\"colab-df-convert\" onclick=\"convertToInteractive('df-98eb4390-1351-43e1-b4d1-0ebb88c85e58')\"\n",
              "            title=\"Convert this dataframe to an interactive table.\"\n",
              "            style=\"display:none;\">\n",
              "\n",
              "  <svg xmlns=\"http://www.w3.org/2000/svg\" height=\"24px\" viewBox=\"0 -960 960 960\">\n",
              "    <path d=\"M120-120v-720h720v720H120Zm60-500h600v-160H180v160Zm220 220h160v-160H400v160Zm0 220h160v-160H400v160ZM180-400h160v-160H180v160Zm440 0h160v-160H620v160ZM180-180h160v-160H180v160Zm440 0h160v-160H620v160Z\"/>\n",
              "  </svg>\n",
              "    </button>\n",
              "\n",
              "  <style>\n",
              "    .colab-df-container {\n",
              "      display:flex;\n",
              "      gap: 12px;\n",
              "    }\n",
              "\n",
              "    .colab-df-convert {\n",
              "      background-color: #E8F0FE;\n",
              "      border: none;\n",
              "      border-radius: 50%;\n",
              "      cursor: pointer;\n",
              "      display: none;\n",
              "      fill: #1967D2;\n",
              "      height: 32px;\n",
              "      padding: 0 0 0 0;\n",
              "      width: 32px;\n",
              "    }\n",
              "\n",
              "    .colab-df-convert:hover {\n",
              "      background-color: #E2EBFA;\n",
              "      box-shadow: 0px 1px 2px rgba(60, 64, 67, 0.3), 0px 1px 3px 1px rgba(60, 64, 67, 0.15);\n",
              "      fill: #174EA6;\n",
              "    }\n",
              "\n",
              "    .colab-df-buttons div {\n",
              "      margin-bottom: 4px;\n",
              "    }\n",
              "\n",
              "    [theme=dark] .colab-df-convert {\n",
              "      background-color: #3B4455;\n",
              "      fill: #D2E3FC;\n",
              "    }\n",
              "\n",
              "    [theme=dark] .colab-df-convert:hover {\n",
              "      background-color: #434B5C;\n",
              "      box-shadow: 0px 1px 3px 1px rgba(0, 0, 0, 0.15);\n",
              "      filter: drop-shadow(0px 1px 2px rgba(0, 0, 0, 0.3));\n",
              "      fill: #FFFFFF;\n",
              "    }\n",
              "  </style>\n",
              "\n",
              "    <script>\n",
              "      const buttonEl =\n",
              "        document.querySelector('#df-98eb4390-1351-43e1-b4d1-0ebb88c85e58 button.colab-df-convert');\n",
              "      buttonEl.style.display =\n",
              "        google.colab.kernel.accessAllowed ? 'block' : 'none';\n",
              "\n",
              "      async function convertToInteractive(key) {\n",
              "        const element = document.querySelector('#df-98eb4390-1351-43e1-b4d1-0ebb88c85e58');\n",
              "        const dataTable =\n",
              "          await google.colab.kernel.invokeFunction('convertToInteractive',\n",
              "                                                    [key], {});\n",
              "        if (!dataTable) return;\n",
              "\n",
              "        const docLinkHtml = 'Like what you see? Visit the ' +\n",
              "          '<a target=\"_blank\" href=https://colab.research.google.com/notebooks/data_table.ipynb>data table notebook</a>'\n",
              "          + ' to learn more about interactive tables.';\n",
              "        element.innerHTML = '';\n",
              "        dataTable['output_type'] = 'display_data';\n",
              "        await google.colab.output.renderOutput(dataTable, element);\n",
              "        const docLink = document.createElement('div');\n",
              "        docLink.innerHTML = docLinkHtml;\n",
              "        element.appendChild(docLink);\n",
              "      }\n",
              "    </script>\n",
              "  </div>\n",
              "\n",
              "\n",
              "<div id=\"df-d42691d7-4a3e-49ce-bcb7-7bdbe73d8ff6\">\n",
              "  <button class=\"colab-df-quickchart\" onclick=\"quickchart('df-d42691d7-4a3e-49ce-bcb7-7bdbe73d8ff6')\"\n",
              "            title=\"Suggest charts\"\n",
              "            style=\"display:none;\">\n",
              "\n",
              "<svg xmlns=\"http://www.w3.org/2000/svg\" height=\"24px\"viewBox=\"0 0 24 24\"\n",
              "     width=\"24px\">\n",
              "    <g>\n",
              "        <path d=\"M19 3H5c-1.1 0-2 .9-2 2v14c0 1.1.9 2 2 2h14c1.1 0 2-.9 2-2V5c0-1.1-.9-2-2-2zM9 17H7v-7h2v7zm4 0h-2V7h2v10zm4 0h-2v-4h2v4z\"/>\n",
              "    </g>\n",
              "</svg>\n",
              "  </button>\n",
              "\n",
              "<style>\n",
              "  .colab-df-quickchart {\n",
              "      --bg-color: #E8F0FE;\n",
              "      --fill-color: #1967D2;\n",
              "      --hover-bg-color: #E2EBFA;\n",
              "      --hover-fill-color: #174EA6;\n",
              "      --disabled-fill-color: #AAA;\n",
              "      --disabled-bg-color: #DDD;\n",
              "  }\n",
              "\n",
              "  [theme=dark] .colab-df-quickchart {\n",
              "      --bg-color: #3B4455;\n",
              "      --fill-color: #D2E3FC;\n",
              "      --hover-bg-color: #434B5C;\n",
              "      --hover-fill-color: #FFFFFF;\n",
              "      --disabled-bg-color: #3B4455;\n",
              "      --disabled-fill-color: #666;\n",
              "  }\n",
              "\n",
              "  .colab-df-quickchart {\n",
              "    background-color: var(--bg-color);\n",
              "    border: none;\n",
              "    border-radius: 50%;\n",
              "    cursor: pointer;\n",
              "    display: none;\n",
              "    fill: var(--fill-color);\n",
              "    height: 32px;\n",
              "    padding: 0;\n",
              "    width: 32px;\n",
              "  }\n",
              "\n",
              "  .colab-df-quickchart:hover {\n",
              "    background-color: var(--hover-bg-color);\n",
              "    box-shadow: 0 1px 2px rgba(60, 64, 67, 0.3), 0 1px 3px 1px rgba(60, 64, 67, 0.15);\n",
              "    fill: var(--button-hover-fill-color);\n",
              "  }\n",
              "\n",
              "  .colab-df-quickchart-complete:disabled,\n",
              "  .colab-df-quickchart-complete:disabled:hover {\n",
              "    background-color: var(--disabled-bg-color);\n",
              "    fill: var(--disabled-fill-color);\n",
              "    box-shadow: none;\n",
              "  }\n",
              "\n",
              "  .colab-df-spinner {\n",
              "    border: 2px solid var(--fill-color);\n",
              "    border-color: transparent;\n",
              "    border-bottom-color: var(--fill-color);\n",
              "    animation:\n",
              "      spin 1s steps(1) infinite;\n",
              "  }\n",
              "\n",
              "  @keyframes spin {\n",
              "    0% {\n",
              "      border-color: transparent;\n",
              "      border-bottom-color: var(--fill-color);\n",
              "      border-left-color: var(--fill-color);\n",
              "    }\n",
              "    20% {\n",
              "      border-color: transparent;\n",
              "      border-left-color: var(--fill-color);\n",
              "      border-top-color: var(--fill-color);\n",
              "    }\n",
              "    30% {\n",
              "      border-color: transparent;\n",
              "      border-left-color: var(--fill-color);\n",
              "      border-top-color: var(--fill-color);\n",
              "      border-right-color: var(--fill-color);\n",
              "    }\n",
              "    40% {\n",
              "      border-color: transparent;\n",
              "      border-right-color: var(--fill-color);\n",
              "      border-top-color: var(--fill-color);\n",
              "    }\n",
              "    60% {\n",
              "      border-color: transparent;\n",
              "      border-right-color: var(--fill-color);\n",
              "    }\n",
              "    80% {\n",
              "      border-color: transparent;\n",
              "      border-right-color: var(--fill-color);\n",
              "      border-bottom-color: var(--fill-color);\n",
              "    }\n",
              "    90% {\n",
              "      border-color: transparent;\n",
              "      border-bottom-color: var(--fill-color);\n",
              "    }\n",
              "  }\n",
              "</style>\n",
              "\n",
              "  <script>\n",
              "    async function quickchart(key) {\n",
              "      const quickchartButtonEl =\n",
              "        document.querySelector('#' + key + ' button');\n",
              "      quickchartButtonEl.disabled = true;  // To prevent multiple clicks.\n",
              "      quickchartButtonEl.classList.add('colab-df-spinner');\n",
              "      try {\n",
              "        const charts = await google.colab.kernel.invokeFunction(\n",
              "            'suggestCharts', [key], {});\n",
              "      } catch (error) {\n",
              "        console.error('Error during call to suggestCharts:', error);\n",
              "      }\n",
              "      quickchartButtonEl.classList.remove('colab-df-spinner');\n",
              "      quickchartButtonEl.classList.add('colab-df-quickchart-complete');\n",
              "    }\n",
              "    (() => {\n",
              "      let quickchartButtonEl =\n",
              "        document.querySelector('#df-d42691d7-4a3e-49ce-bcb7-7bdbe73d8ff6 button');\n",
              "      quickchartButtonEl.style.display =\n",
              "        google.colab.kernel.accessAllowed ? 'block' : 'none';\n",
              "    })();\n",
              "  </script>\n",
              "</div>\n",
              "\n",
              "    </div>\n",
              "  </div>\n"
            ],
            "application/vnd.google.colaboratory.intrinsic+json": {
              "type": "dataframe",
              "variable_name": "train",
              "summary": "{\n  \"name\": \"train\",\n  \"rows\": 17877,\n  \"fields\": [\n    {\n      \"column\": \"review_id\",\n      \"properties\": {\n        \"dtype\": \"number\",\n        \"std\": 6385,\n        \"min\": 0,\n        \"max\": 20427,\n        \"num_unique_values\": 14968,\n        \"samples\": [\n          16355,\n          10879,\n          7945\n        ],\n        \"semantic_type\": \"\",\n        \"description\": \"\"\n      }\n    },\n    {\n      \"column\": \"title\",\n      \"properties\": {\n        \"dtype\": \"category\",\n        \"num_unique_values\": 64,\n        \"samples\": [\n          \"RaceRoom Racing Experience\",\n          \"SMITE\\u00ae\",\n          \"Black Squad\"\n        ],\n        \"semantic_type\": \"\",\n        \"description\": \"\"\n      }\n    },\n    {\n      \"column\": \"year\",\n      \"properties\": {\n        \"dtype\": \"number\",\n        \"std\": 1.3697574180800602,\n        \"min\": 2011.0,\n        \"max\": 2018.0,\n        \"num_unique_values\": 8,\n        \"samples\": [\n          2016.0,\n          2013.0,\n          2018.0\n        ],\n        \"semantic_type\": \"\",\n        \"description\": \"\"\n      }\n    },\n    {\n      \"column\": \"user_review\",\n      \"properties\": {\n        \"dtype\": \"string\",\n        \"num_unique_values\": 17839,\n        \"samples\": [\n          \"game idle game lot content enjoyable play plus play way race work people want run game afk day end race people want use autoclicker night long eventually unlock race let build def check game look fun clicker idle game\",\n          \"game good hardcore pay win extra extra extra grindy free player overally game garbage oh thank fun like month i game low rating i recommend play anymore\",\n          \"let i game simply amazing extremely realistic sort fun realism simulator individual aircraft vary price worth spend money i recommend cheap price quality overall i game\"\n        ],\n        \"semantic_type\": \"\",\n        \"description\": \"\"\n      }\n    },\n    {\n      \"column\": \"user_suggestion\",\n      \"properties\": {\n        \"dtype\": \"number\",\n        \"std\": 0,\n        \"min\": 0,\n        \"max\": 1,\n        \"num_unique_values\": 2,\n        \"samples\": [\n          0,\n          1\n        ],\n        \"semantic_type\": \"\",\n        \"description\": \"\"\n      }\n    },\n    {\n      \"column\": \"pos_tags\",\n      \"properties\": {\n        \"dtype\": \"string\",\n        \"num_unique_values\": 17823,\n        \"samples\": [\n          \"NOUN VERB ADJ ADJ ADJ NOUN NOUN ADJ ADJ NOUN NOUN NOUN VERB NOUN NOUN NOUN PROPN NOUN ADJ NOUN NOUN NOUN ADP NOUN PROPN PROPN PROPN VERB PROPN NOUN NOUN NOUN NOUN NOUN NOUN NOUN ADV VERB ADV ADJ NOUN NOUN ADJ NOUN NOUN VERB ADJ ADP ADJ ADJ PROPN PROPN PROPN PROPN PROPN ADJ ADJ PROPN NOUN VERB ADJ PROPN VERB ADJ NOUN NOUN ADJ ADJ NOUN ADJ ADJ NOUN NOUN VERB VERB NOUN NOUN ADJ NOUN NOUN NOUN NOUN VERB VERB NOUN NOUN NOUN VERB VERB VERB NOUN VERB NOUN ADJ NOUN NOUN ADV ADJ NOUN NOUN PROPN PROPN ADJ ADJ NOUN PROPN NOUN NOUN NOUN VERB NOUN ADV VERB ADJ NOUN NOUN NOUN VERB NOUN VERB ADJ ADJ NOUN PRON VERB CCONJ ADJ NOUN NOUN NOUN ADJ NOUN NOUN NOUN ADJ PRON VERB ADJ ADJ NOUN PROPN NOUN NOUN NOUN NOUN ADV NUM NOUN VERB ADJ NOUN NOUN ADV ADJ PROPN VERB VERB ADJ NOUN NOUN NOUN NOUN NOUN PRON ADJ NOUN PROPN ADV ADJ NOUN NOUN VERB ADP PROPN PROPN INTJ NOUN PRON ADJ NOUN NOUN VERB ADV ADJ NOUN NOUN ADV ADJ NOUN ADV VERB ADJ NOUN NOUN NOUN NOUN NOUN ADJ NOUN ADV NOUN NOUN NOUN ADV ADJ NOUN VERB ADV VERB NOUN NOUN NOUN ADV ADJ NOUN NOUN ADV VERB VERB NOUN ADP INTJ NOUN NOUN INTJ NOUN NOUN NOUN ADJ NOUN ADV ADJ INTJ ADJ ADJ NOUN ADJ NOUN NOUN NOUN NOUN NOUN NOUN VERB NOUN VERB ADJ NOUN ADJ NOUN PRON VERB ADJ PROPN PROPN ADJ NOUN NOUN NOUN NOUN PRON VERB PROPN PROPN VERB NOUN NOUN ADV INTJ VERB ADJ X VERB ADJ VERB ADV ADJ ADJ NOUN NOUN NOUN NOUN ADJ ADV ADJ ADV VERB NOUN NOUN PROPN ADV PROPN PROPN PROPN PART NOUN NOUN NOUN VERB ADJ NOUN ADJ NOUN ADJ ADJ ADV PRON ADV VERB NUM ADJ NOUN NOUN ADJ VERB NOUN NOUN NOUN NOUN VERB NOUN NOUN ADJ NOUN VERB NOUN NOUN NOUN NOUN NOUN NOUN NOUN\",\n          \"ADJ NOUN PRON VERB VERB NOUN NOUN NOUN NOUN PROPN NOUN NOUN ADJ NOUN\"\n        ],\n        \"semantic_type\": \"\",\n        \"description\": \"\"\n      }\n    },\n    {\n      \"column\": \"ner_tags\",\n      \"properties\": {\n        \"dtype\": \"category\",\n        \"num_unique_values\": 8918,\n        \"samples\": [\n          \"O O O O O O O O O O O O O O O O O O O O O O O O O O O O O O O O O O O O O O PERSON O O O O O O O O O O TIME TIME O O O O O O O O O O O O O O O O O O O O O O O O O O O O O O O O O O O O O O O O O O O O O\",\n          \"O O O O TIME O O O O O O O O O O O O O O O O TIME O O O O NORP O O O O O O O O O O O NORP O O O O ORG O O O O O O O O O NORP O O O O O O O PERSON O O O O O O O O O O O O O O O O\"\n        ],\n        \"semantic_type\": \"\",\n        \"description\": \"\"\n      }\n    }\n  ]\n}"
            }
          },
          "metadata": {},
          "execution_count": 36
        }
      ]
    },
    {
      "cell_type": "code",
      "source": [
        "from spacy import displacy\n",
        "\n",
        "text = train['user_review'][3]\n",
        "text\n",
        "doc = nlp(text)\n",
        "displacy.render(doc, style=\"ent\")"
      ],
      "metadata": {
        "colab": {
          "base_uri": "https://localhost:8080/",
          "height": 87
        },
        "id": "XfEeDrY3fKaX",
        "outputId": "b4ee077a-cde1-4414-e325-7792c28c4353"
      },
      "execution_count": 37,
      "outputs": [
        {
          "output_type": "display_data",
          "data": {
            "text/plain": [
              "<IPython.core.display.HTML object>"
            ],
            "text/html": [
              "<span class=\"tex2jax_ignore\"><div class=\"entities\" style=\"line-height: 2.5; direction: ltr\">turn base strategy game similiar ff \n",
              "<mark class=\"entity\" style=\"background: #bfe1d9; padding: 0.45em 0.6em; margin: 0 0.25em; line-height: 1; border-radius: 0.35em;\">\n",
              "    tactic day\n",
              "    <span style=\"font-size: 0.8em; font-weight: bold; line-height: 1; border-radius: 0.35em; vertical-align: middle; margin-left: 0.5rem\">DATE</span>\n",
              "</mark>\n",
              " remember easy enjoyable lot different comp try bored want able play fun game hand occasional glance screen watch movie hentai</div></span>"
            ]
          },
          "metadata": {}
        }
      ]
    },
    {
      "cell_type": "code",
      "source": [
        "text1= \"India is a country with leading IT companies such as Infosys, TCS, Wipro etc. Most of them make millions of dollars in revenues and are based out of Hyderabad\"\n",
        "text1\n",
        "doc = nlp(text1)\n",
        "displacy.render(doc, style=\"ent\")"
      ],
      "metadata": {
        "colab": {
          "base_uri": "https://localhost:8080/",
          "height": 87
        },
        "id": "fTJKKiAchETS",
        "outputId": "d9153142-a2b2-4821-a545-90e3eab9ee59"
      },
      "execution_count": 38,
      "outputs": [
        {
          "output_type": "display_data",
          "data": {
            "text/plain": [
              "<IPython.core.display.HTML object>"
            ],
            "text/html": [
              "<span class=\"tex2jax_ignore\"><div class=\"entities\" style=\"line-height: 2.5; direction: ltr\">\n",
              "<mark class=\"entity\" style=\"background: #feca74; padding: 0.45em 0.6em; margin: 0 0.25em; line-height: 1; border-radius: 0.35em;\">\n",
              "    India\n",
              "    <span style=\"font-size: 0.8em; font-weight: bold; line-height: 1; border-radius: 0.35em; vertical-align: middle; margin-left: 0.5rem\">GPE</span>\n",
              "</mark>\n",
              " is a country with leading IT companies such as \n",
              "<mark class=\"entity\" style=\"background: #7aecec; padding: 0.45em 0.6em; margin: 0 0.25em; line-height: 1; border-radius: 0.35em;\">\n",
              "    Infosys\n",
              "    <span style=\"font-size: 0.8em; font-weight: bold; line-height: 1; border-radius: 0.35em; vertical-align: middle; margin-left: 0.5rem\">ORG</span>\n",
              "</mark>\n",
              ", \n",
              "<mark class=\"entity\" style=\"background: #7aecec; padding: 0.45em 0.6em; margin: 0 0.25em; line-height: 1; border-radius: 0.35em;\">\n",
              "    TCS\n",
              "    <span style=\"font-size: 0.8em; font-weight: bold; line-height: 1; border-radius: 0.35em; vertical-align: middle; margin-left: 0.5rem\">ORG</span>\n",
              "</mark>\n",
              ", \n",
              "<mark class=\"entity\" style=\"background: #7aecec; padding: 0.45em 0.6em; margin: 0 0.25em; line-height: 1; border-radius: 0.35em;\">\n",
              "    Wipro\n",
              "    <span style=\"font-size: 0.8em; font-weight: bold; line-height: 1; border-radius: 0.35em; vertical-align: middle; margin-left: 0.5rem\">ORG</span>\n",
              "</mark>\n",
              " etc. Most of them make \n",
              "<mark class=\"entity\" style=\"background: #e4e7d2; padding: 0.45em 0.6em; margin: 0 0.25em; line-height: 1; border-radius: 0.35em;\">\n",
              "    millions of dollars\n",
              "    <span style=\"font-size: 0.8em; font-weight: bold; line-height: 1; border-radius: 0.35em; vertical-align: middle; margin-left: 0.5rem\">MONEY</span>\n",
              "</mark>\n",
              " in revenues and are based out of \n",
              "<mark class=\"entity\" style=\"background: #feca74; padding: 0.45em 0.6em; margin: 0 0.25em; line-height: 1; border-radius: 0.35em;\">\n",
              "    Hyderabad\n",
              "    <span style=\"font-size: 0.8em; font-weight: bold; line-height: 1; border-radius: 0.35em; vertical-align: middle; margin-left: 0.5rem\">GPE</span>\n",
              "</mark>\n",
              "</div></span>"
            ]
          },
          "metadata": {}
        }
      ]
    },
    {
      "cell_type": "code",
      "source": [
        "del train['pos_tags']\n",
        "del train['ner_tags']"
      ],
      "metadata": {
        "id": "kM8d1KqbhF1u"
      },
      "execution_count": 39,
      "outputs": []
    },
    {
      "cell_type": "code",
      "source": [
        "def remove_noun(df):\n",
        "\n",
        "  nlp = spacy.load(\"en_core_web_sm\")\n",
        "\n",
        "  # Process user_review column\n",
        "  filtered_reviews = []\n",
        "  for review in df['user_review']:\n",
        "    filtered_review = \" \".join([token.text for token in nlp(review) if token.pos_ not in ['NOUN', 'PROPN']])\n",
        "    filtered_reviews.append(filtered_review)\n",
        "\n",
        "  return filtered_reviews"
      ],
      "metadata": {
        "id": "evhv6MelhIpF"
      },
      "execution_count": 40,
      "outputs": []
    },
    {
      "cell_type": "code",
      "source": [
        "w_noun_train  = remove_noun(train)"
      ],
      "metadata": {
        "id": "-AO96GLChLsh"
      },
      "execution_count": 41,
      "outputs": []
    },
    {
      "cell_type": "code",
      "source": [
        "train['user_review'].head()"
      ],
      "metadata": {
        "colab": {
          "base_uri": "https://localhost:8080/",
          "height": 241
        },
        "id": "C3dWuf8vhPYm",
        "outputId": "b42eeb28-4077-4f9d-9cd5-c85f1be6f282"
      },
      "execution_count": 42,
      "outputs": [
        {
          "output_type": "execute_result",
          "data": {
            "text/plain": [
              "0    early access reviewvery great shooter original...\n",
              "1    i love love love play lot class choose bound s...\n",
              "2    early access reviewas fan mtg hearthstone fun ...\n",
              "3    turn base strategy game similiar ff tactic day...\n",
              "4    game insanely huge download phone game blast v...\n",
              "Name: user_review, dtype: object"
            ],
            "text/html": [
              "<div>\n",
              "<style scoped>\n",
              "    .dataframe tbody tr th:only-of-type {\n",
              "        vertical-align: middle;\n",
              "    }\n",
              "\n",
              "    .dataframe tbody tr th {\n",
              "        vertical-align: top;\n",
              "    }\n",
              "\n",
              "    .dataframe thead th {\n",
              "        text-align: right;\n",
              "    }\n",
              "</style>\n",
              "<table border=\"1\" class=\"dataframe\">\n",
              "  <thead>\n",
              "    <tr style=\"text-align: right;\">\n",
              "      <th></th>\n",
              "      <th>user_review</th>\n",
              "    </tr>\n",
              "  </thead>\n",
              "  <tbody>\n",
              "    <tr>\n",
              "      <th>0</th>\n",
              "      <td>early access reviewvery great shooter original...</td>\n",
              "    </tr>\n",
              "    <tr>\n",
              "      <th>1</th>\n",
              "      <td>i love love love play lot class choose bound s...</td>\n",
              "    </tr>\n",
              "    <tr>\n",
              "      <th>2</th>\n",
              "      <td>early access reviewas fan mtg hearthstone fun ...</td>\n",
              "    </tr>\n",
              "    <tr>\n",
              "      <th>3</th>\n",
              "      <td>turn base strategy game similiar ff tactic day...</td>\n",
              "    </tr>\n",
              "    <tr>\n",
              "      <th>4</th>\n",
              "      <td>game insanely huge download phone game blast v...</td>\n",
              "    </tr>\n",
              "  </tbody>\n",
              "</table>\n",
              "</div><br><label><b>dtype:</b> object</label>"
            ]
          },
          "metadata": {},
          "execution_count": 42
        }
      ]
    },
    {
      "cell_type": "code",
      "source": [
        "w_noun_train[:5]"
      ],
      "metadata": {
        "colab": {
          "base_uri": "https://localhost:8080/"
        },
        "id": "eee3YaKahUa_",
        "outputId": "a0e4b197-4a29-40e1-8d10-086963cbb694"
      },
      "execution_count": 43,
      "outputs": [
        {
          "output_type": "execute_result",
          "data": {
            "text/plain": [
              "['early great shooter understand visual look i think evolve sure early i think need cuz compare low think go i hope understand i like i think i',\n",
              " 'i love choose bound storyline',\n",
              " 'early reviewas far good know haha great',\n",
              " 'turn similiar ff remember easy enjoyable different try bored want able play occasional',\n",
              " 'insanely huge entire far long']"
            ]
          },
          "metadata": {},
          "execution_count": 43
        }
      ]
    },
    {
      "cell_type": "code",
      "source": [
        "tfidf_wnoun_vectorizer = TfidfVectorizer(min_df=0.001)\n",
        "tfidf_wnoun_vectorizer_train = tfidf_wnoun_vectorizer .fit_transform(w_noun_train)"
      ],
      "metadata": {
        "id": "QsXO5vm1hWOv"
      },
      "execution_count": 44,
      "outputs": []
    },
    {
      "cell_type": "code",
      "source": [
        "# tfidf_wnoun_vectorizer_train =tfidf_wnoun_vectorizer .fit_transform(train['user_review'])\n",
        "naive_bayes_classifier.fit(tfidf_wnoun_vectorizer_train , train['user_suggestion'])\n",
        "naive_bayes_classifier.score(tfidf_wnoun_vectorizer_train, train['user_suggestion'])"
      ],
      "metadata": {
        "colab": {
          "base_uri": "https://localhost:8080/"
        },
        "id": "SYSV5WJ5hYeL",
        "outputId": "03dd6bf2-86ce-4f81-92ad-ace3a1abef61"
      },
      "execution_count": 45,
      "outputs": [
        {
          "output_type": "execute_result",
          "data": {
            "text/plain": [
              "0.8005817530905633"
            ]
          },
          "metadata": {},
          "execution_count": 45
        }
      ]
    },
    {
      "cell_type": "code",
      "source": [
        "import torch\n",
        "import torch.nn as nn\n",
        "import torch.optim as optim\n",
        "from torch.utils.data import DataLoader , TensorDataset"
      ],
      "metadata": {
        "id": "LwJ_AyNP5MSQ"
      },
      "execution_count": 47,
      "outputs": []
    },
    {
      "cell_type": "code",
      "source": [
        "tfidf_ann_vectorizer = TfidfVectorizer(min_df=0.001)"
      ],
      "metadata": {
        "id": "S3NSV7mTG7iV"
      },
      "execution_count": 48,
      "outputs": []
    },
    {
      "cell_type": "code",
      "source": [
        "#fitting the ann_vectorizer to train and validation data\n",
        "features_train = tfidf = tfidf_ann_vectorizer.fit_transform(train['user_review'])\n",
        "features_validation = tfidf_ann_vectorizer.transform(validation['user_review'])"
      ],
      "metadata": {
        "id": "W8zQqGScHCNU"
      },
      "execution_count": 49,
      "outputs": []
    },
    {
      "cell_type": "code",
      "source": [
        "#converting the features_train and features_validation to tensors\n",
        "features_train = torch.tensor(features_train.toarray(), dtype=torch.float32)\n",
        "features_validation = torch.tensor(features_validation.toarray(), dtype=torch.float32)"
      ],
      "metadata": {
        "id": "K1g_F9BTHgP1"
      },
      "execution_count": 50,
      "outputs": []
    },
    {
      "cell_type": "code",
      "source": [
        "y_train = torch.tensor(train['user_suggestion'])\n",
        "y_validation = torch.tensor(validation['user_suggestion'])"
      ],
      "metadata": {
        "id": "ioTH3P6JJ0a4"
      },
      "execution_count": 51,
      "outputs": []
    },
    {
      "cell_type": "code",
      "source": [
        "train_dataset = TensorDataset(features_train, y_train)\n",
        "val_dataset = TensorDataset(features_validation, y_validation)\n",
        "\n",
        "train_loader = DataLoader(train_dataset, batch_size=256, shuffle=True)\n",
        "val_loader = DataLoader(val_dataset, batch_size=256, shuffle=True)"
      ],
      "metadata": {
        "id": "3WNC_plhKVeG"
      },
      "execution_count": 53,
      "outputs": []
    },
    {
      "cell_type": "code",
      "source": [
        "class ANNModel(nn.Module):\n",
        "  def __init__(self, input_size, output_size, dropout_rate, hidden_size):\n",
        "    super(ANNModel, self).__init__()\n",
        "    self.fc1 = nn.Linear(input_size, hidden_size)\n",
        "    self.relu = nn.ReLU()\n",
        "    self.dropout = nn.Dropout(dropout_rate)\n",
        "    self.fc2 = nn.Linear(hidden_size, output_size)\n",
        "    self.fc3 = nn.Sigmoid()\n",
        "\n",
        "\n",
        "  def forward(self, X):\n",
        "    out = self.fc1(X)\n",
        "    out = self.relu(out)\n",
        "    out = self.dropout(out)\n",
        "    out = self.fc2(out)\n",
        "    out = self.fc3(out)\n",
        "    return out\n"
      ],
      "metadata": {
        "id": "a1alBRpAO6OJ"
      },
      "execution_count": 54,
      "outputs": []
    },
    {
      "cell_type": "code",
      "source": [
        "model = ANNModel(input_size = features_train.shape[1], hidden_size=64, output_size=1, dropout_rate=0.5)\n",
        "criterion = nn.BCELoss()\n",
        "optimizer = optim.Adam(model.parameters())"
      ],
      "metadata": {
        "id": "QzABjrPnQjWf"
      },
      "execution_count": 58,
      "outputs": []
    },
    {
      "cell_type": "code",
      "source": [
        "import matplotlib.pyplot as plt\n",
        "\n",
        "num_epochs = 30  # Number of epochs\n",
        "losses = []  # List to store the average loss per epoch\n",
        "val_losses = []\n",
        "\n",
        "for epoch in range(num_epochs):\n",
        "    model.train()  # Set the model to training mode\n",
        "    total_loss = 0  # Variable to store the total loss in each epoch\n",
        "    total_val_loss = 0\n",
        "    count = 0  # Variable to count the number of batches\n",
        "    val_count = 0\n",
        "    for inputs, labels in train_loader:\n",
        "        optimizer.zero_grad()\n",
        "        outputs = model(inputs)\n",
        "        outputs = outputs.squeeze()  # Squeeze the output to match the label's shape\n",
        "        loss = criterion(outputs, labels.float())  # Ensure labels are float\n",
        "        loss.backward()\n",
        "        optimizer.step()\n",
        "        total_loss += loss.item()\n",
        "        count += 1\n",
        "    average_loss = total_loss / count  # Calculate average loss for the epoch\n",
        "    losses.append(average_loss)  # Append average loss to the list\n",
        "\n",
        "    for inputs, labels in val_loader:\n",
        "        val_outputs = model(inputs)\n",
        "        val_outputs = val_outputs.squeeze()  # Squeeze the output to match the label's shape\n",
        "        val_loss = criterion(val_outputs, labels.float())  # Ensure labels are float\n",
        "        total_val_loss += val_loss.item()\n",
        "        val_count += 1\n",
        "    average_val_loss = total_val_loss / val_count  # Calculate average loss for the epoch\n",
        "    val_losses.append(average_val_loss)  # Append average loss to the list\n",
        "    print(f'Epoch {epoch+1}/{num_epochs}, Loss: {average_loss:.4f}, Val Loss: {average_val_loss:.4f}')\n",
        "\n",
        "# Plotting the training loss\n",
        "plt.figure(figsize=(10, 5))\n",
        "plt.plot(range(1, num_epochs + 1), losses, marker='o', linestyle='-', color='b', label = 'train_loss')\n",
        "plt.plot(range(1, num_epochs + 1), val_losses, marker='o', linestyle='-', color='r', label = 'val_loss')\n",
        "plt.title('Training Loss per Epoch')\n",
        "plt.xlabel('Epoch')\n",
        "plt.ylabel('Loss')\n",
        "plt.legend()\n",
        "plt.grid(True)\n",
        "plt.show()"
      ],
      "metadata": {
        "id": "rRxxxTX_Se6I",
        "outputId": "804aec83-2764-4e6b-da11-722e5681cc60",
        "colab": {
          "base_uri": "https://localhost:8080/",
          "height": 969
        }
      },
      "execution_count": 59,
      "outputs": [
        {
          "output_type": "stream",
          "name": "stdout",
          "text": [
            "Epoch 1/30, Loss: 0.6503, Val Loss: 0.5832\n",
            "Epoch 2/30, Loss: 0.5043, Val Loss: 0.4456\n",
            "Epoch 3/30, Loss: 0.3990, Val Loss: 0.3894\n",
            "Epoch 4/30, Loss: 0.3536, Val Loss: 0.3729\n",
            "Epoch 5/30, Loss: 0.3264, Val Loss: 0.3595\n",
            "Epoch 6/30, Loss: 0.3102, Val Loss: 0.3593\n",
            "Epoch 7/30, Loss: 0.2988, Val Loss: 0.3564\n",
            "Epoch 8/30, Loss: 0.2862, Val Loss: 0.3627\n",
            "Epoch 9/30, Loss: 0.2785, Val Loss: 0.3616\n",
            "Epoch 10/30, Loss: 0.2707, Val Loss: 0.3668\n",
            "Epoch 11/30, Loss: 0.2647, Val Loss: 0.3688\n",
            "Epoch 12/30, Loss: 0.2568, Val Loss: 0.3746\n",
            "Epoch 13/30, Loss: 0.2497, Val Loss: 0.3823\n",
            "Epoch 14/30, Loss: 0.2457, Val Loss: 0.3865\n",
            "Epoch 15/30, Loss: 0.2393, Val Loss: 0.3874\n",
            "Epoch 16/30, Loss: 0.2352, Val Loss: 0.3957\n",
            "Epoch 17/30, Loss: 0.2292, Val Loss: 0.4019\n",
            "Epoch 18/30, Loss: 0.2235, Val Loss: 0.4025\n",
            "Epoch 19/30, Loss: 0.2195, Val Loss: 0.4148\n",
            "Epoch 20/30, Loss: 0.2128, Val Loss: 0.4197\n",
            "Epoch 21/30, Loss: 0.2094, Val Loss: 0.4250\n",
            "Epoch 22/30, Loss: 0.2024, Val Loss: 0.4358\n",
            "Epoch 23/30, Loss: 0.1982, Val Loss: 0.4311\n",
            "Epoch 24/30, Loss: 0.1938, Val Loss: 0.4485\n",
            "Epoch 25/30, Loss: 0.1891, Val Loss: 0.4490\n",
            "Epoch 26/30, Loss: 0.1844, Val Loss: 0.4546\n",
            "Epoch 27/30, Loss: 0.1793, Val Loss: 0.4660\n",
            "Epoch 28/30, Loss: 0.1736, Val Loss: 0.4698\n",
            "Epoch 29/30, Loss: 0.1695, Val Loss: 0.4821\n",
            "Epoch 30/30, Loss: 0.1652, Val Loss: 0.4894\n"
          ]
        },
        {
          "output_type": "display_data",
          "data": {
            "text/plain": [
              "<Figure size 1000x500 with 1 Axes>"
            ],
            "image/png": "[encoded data removed]"
          },
          "metadata": {}
        }
      ]
    },
    {
      "cell_type": "code",
      "source": [
        "def calculate_accuracy(loader):\n",
        "  model.eval()\n",
        "  correct, total = 0,0\n",
        "  with torch.no_grad():\n",
        "    for inputs, labels in loader:\n",
        "      outputs = model(inputs)\n",
        "      predicted = outputs.squeeze() > 0.5\n",
        "      total += labels.size(0)\n",
        "      correct += (predicted == labels).sum().item()\n",
        "  return 100* correct/total\n",
        "\n",
        "train_accuracy = calculate_accuracy(train_loader)\n",
        "val_accuracy = calculate_accuracy(val_loader)\n",
        "\n",
        "print(f'Train Accuracy: {train_accuracy:.2f}%')\n",
        "print(f'Validation Accuracy: {val_accuracy:.2f}%')"
      ],
      "metadata": {
        "id": "GA7XOr2bS3ep",
        "outputId": "17f3db68-9c56-46ee-b955-2a62b701fe90",
        "colab": {
          "base_uri": "https://localhost:8080/"
        }
      },
      "execution_count": 60,
      "outputs": [
        {
          "output_type": "stream",
          "name": "stdout",
          "text": [
            "Train Accuracy: 95.14%\n",
            "Validation Accuracy: 82.56%\n"
          ]
        }
      ]
    }
  ]
}